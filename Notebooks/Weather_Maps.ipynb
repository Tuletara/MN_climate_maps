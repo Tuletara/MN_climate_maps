{
 "cells": [
  {
   "cell_type": "code",
   "execution_count": null,
   "metadata": {},
   "outputs": [],
   "source": [
    "Symbology"
   ]
  },
  {
   "cell_type": "code",
   "execution_count": null,
   "metadata": {},
   "outputs": [],
   "source": [
    "# This applies symbology from another layer that must be stored \n",
    "\n",
    "# Apply symbology from layer\n",
    "\n",
    "arcpy.env.workspace = r\"C:\\Users\\mmMary\\Documents\\8990\\T\\LAYERS\\symbology\\precip\"\n",
    "\n",
    "# monthly_style = r\"C:\\Users\\mmMary\\Documents\\8990\\T\\LAYERS\\Layer_Styles\\ppt_monthly.shp\"\n",
    "# ann_style = r\"C:\\Users\\mmMary\\Documents\\8990\\Layers\\Symbology_Layers\\ppt_ann_style.shp\"\n",
    "\n",
    "featureclasses = arcpy.ListFeatureClasses()\n",
    "\n",
    "for fc in featureclasses:\n",
    "    if fc.endswith(\"_ann_bil.shp\"):\n",
    "        arcpy.management.ApplySymbologyFromLayer(fc, \"ppt_ann_style\", \n",
    "                                         \"VALUE_FIELD ContourMin ContourMin\", \"MAINTAIN\")\n",
    "    else:\n",
    "#         print(fc)\n",
    "        arcpy.management.ApplySymbologyFromLayer(fc, \"ppt_monthly\", \n",
    "                                         \"VALUE_FIELD ContourMin ContourMin\", \"MAINTAIN\")"
   ]
  },
  {
   "cell_type": "code",
   "execution_count": 16,
   "metadata": {},
   "outputs": [],
   "source": [
    "# Import packages\n",
    "import arcpy\n",
    "from arcpy.sa import *\n",
    "import os"
   ]
  },
  {
   "cell_type": "markdown",
   "metadata": {},
   "source": [
    "### The following are my attempts to automate projection into MN UTM CRS"
   ]
  },
  {
   "cell_type": "code",
   "execution_count": 174,
   "metadata": {
    "scrolled": true
   },
   "outputs": [
    {
     "ename": "ExecuteError",
     "evalue": "Failed to execute. Parameters are not valid.\nUndefined coordinate system for input dataset.\nFailed to execute (ProjectRaster).\n",
     "output_type": "error",
     "traceback": [
      "\u001b[0;31m---------------------------------------------------------------------------\u001b[0m\n\u001b[0;31mExecuteError\u001b[0m                              Traceback (most recent call last)",
      "In  \u001b[0;34m[174]\u001b[0m:\nLine \u001b[0;34m16\u001b[0m:    arcpy.management.ProjectRaster(in_raster, out_raster, spatial_reference_object, \u001b[34mNone\u001b[39;49;00m, \u001b[34mNone\u001b[39;49;00m, \u001b[34mNone\u001b[39;49;00m, \u001b[34mNone\u001b[39;49;00m, out_spatial_reference_object, \u001b[34mNone\u001b[39;49;00m)\n",
      "File \u001b[0;34mC:\\Program Files\\ArcGIS\\Pro\\Resources\\ArcPy\\arcpy\\management.py\u001b[0m, in \u001b[0;32mProjectRaster\u001b[0m:\nLine \u001b[0;34m14033\u001b[0m: \u001b[34mraise\u001b[39;49;00m e\n",
      "File \u001b[0;34mC:\\Program Files\\ArcGIS\\Pro\\Resources\\ArcPy\\arcpy\\management.py\u001b[0m, in \u001b[0;32mProjectRaster\u001b[0m:\nLine \u001b[0;34m14030\u001b[0m: retval = convertArcObjectToPythonObject(gp.ProjectRaster_management(*gp_fixargs((in_raster, out_raster, out_coor_system, resampling_type, cell_size, geographic_transform, Registration_Point, in_coor_system, vertical), \u001b[34mTrue\u001b[39;49;00m)))\n",
      "File \u001b[0;34mC:\\Program Files\\ArcGIS\\Pro\\Resources\\ArcPy\\arcpy\\geoprocessing\\_base.py\u001b[0m, in \u001b[0;32m<lambda>\u001b[0m:\nLine \u001b[0;34m512\u001b[0m:   \u001b[34mreturn\u001b[39;49;00m \u001b[34mlambda\u001b[39;49;00m *args: val(*gp_fixargs(args, \u001b[34mTrue\u001b[39;49;00m))\n",
      "\u001b[0;31mExecuteError\u001b[0m: Failed to execute. Parameters are not valid.\nUndefined coordinate system for input dataset.\nFailed to execute (ProjectRaster).\n\n\u001b[0;31m---------------------------------------------------------------------------\u001b[0m"
     ]
    }
   ],
   "source": [
    "directory = os.fsencode(r\"C:\\Users\\mmMary\\Documents\\8990\\T\\DATA\\tmin\")\n",
    "\n",
    "for file in os.listdir(directory):\n",
    "    filename = os.fsdecode(file)\n",
    "    \n",
    "    base_path = r\"C:\\Users\\mmMary\\Documents\\8990\\T\\utm\\tmin\"\n",
    "    out_raster = os.path.join(base_path, filename)\n",
    "    \n",
    "    if filename.endswith(\".bil\"):\n",
    "\n",
    "        in_raster = filename\n",
    "#         out_raster = r\"C:\\Users\\mmMary\\Documents\\8990\\T\\Project_Rasters\\ppt\\PRISM_ppt_30yr_normal_4kmM3_annual_bil.bil\"\n",
    "        # wkt = 'PROJCS[\"NAD_1983_UTM_Zone_15N\",GEOGCS[\"GCS_North_American_1983\",DATUM[\"D_North_American_1983\",SPHEROID[\"GRS_1980\",6378137.0,298.257222101]],PRIMEM[\"Greenwich\",0.0],UNIT[\"Degree\",0.0174532925199433]],PROJECTION[\"Transverse_Mercator\"],PARAMETER[\"False_Easting\",500000.0],PARAMETER[\"False_Northing\",0.0],PARAMETER[\"Central_Meridian\",-93.0],PARAMETER[\"Scale_Factor\",0.9996],PARAMETER[\"Latitude_Of_Origin\",0.0],UNIT[\"Meter\",1.0]]'\n",
    "        spatial_reference_object = arcpy.SpatialReference(26915)\n",
    "        out_spatial_reference_object = arcpy.SpatialReference(4269)\n",
    "        arcpy.management.ProjectRaster(in_raster, out_raster, spatial_reference_object, None, None, None, None, out_spatial_reference_object, None)\n",
    "\n",
    "#         print(spatial_reference_object)\n",
    "# Sources:\n",
    "# https://pro.arcgis.com/en/pro-app/latest/tool-reference/data-management/project-raster.htm\n",
    "# https://pro.arcgis.com/en/pro-app/latest/arcpy/classes/spatialreference.htm\n",
    "#     https://epsg.io/26915"
   ]
  },
  {
   "cell_type": "code",
   "execution_count": 176,
   "metadata": {
    "collapsed": true
   },
   "outputs": [
    {
     "name": "stdout",
     "output_type": "stream",
     "text": [
      "ERROR 999999: Something unexpected caused the tool to fail. Contact Esri Technical Support (http://esriurl.com/support) to Report a Bug, and refer to the error help for potential solutions or workarounds.\n",
      "Failed to execute (ProjectRaster).\n",
      "\n",
      "ERROR 999999: Something unexpected caused the tool to fail. Contact Esri Technical Support (http://esriurl.com/support) to Report a Bug, and refer to the error help for potential solutions or workarounds.\n",
      "Failed to execute (ProjectRaster).\n",
      "\n",
      "ERROR 999999: Something unexpected caused the tool to fail. Contact Esri Technical Support (http://esriurl.com/support) to Report a Bug, and refer to the error help for potential solutions or workarounds.\n",
      "Failed to execute (ProjectRaster).\n",
      "\n",
      "ERROR 999999: Something unexpected caused the tool to fail. Contact Esri Technical Support (http://esriurl.com/support) to Report a Bug, and refer to the error help for potential solutions or workarounds.\n",
      "Failed to execute (ProjectRaster).\n",
      "\n",
      "ERROR 999999: Something unexpected caused the tool to fail. Contact Esri Technical Support (http://esriurl.com/support) to Report a Bug, and refer to the error help for potential solutions or workarounds.\n",
      "Failed to execute (ProjectRaster).\n",
      "\n",
      "ERROR 999999: Something unexpected caused the tool to fail. Contact Esri Technical Support (http://esriurl.com/support) to Report a Bug, and refer to the error help for potential solutions or workarounds.\n",
      "Failed to execute (ProjectRaster).\n",
      "\n",
      "ERROR 999999: Something unexpected caused the tool to fail. Contact Esri Technical Support (http://esriurl.com/support) to Report a Bug, and refer to the error help for potential solutions or workarounds.\n",
      "Failed to execute (ProjectRaster).\n",
      "\n",
      "ERROR 999999: Something unexpected caused the tool to fail. Contact Esri Technical Support (http://esriurl.com/support) to Report a Bug, and refer to the error help for potential solutions or workarounds.\n",
      "Failed to execute (ProjectRaster).\n",
      "\n",
      "ERROR 999999: Something unexpected caused the tool to fail. Contact Esri Technical Support (http://esriurl.com/support) to Report a Bug, and refer to the error help for potential solutions or workarounds.\n",
      "Failed to execute (ProjectRaster).\n",
      "\n",
      "ERROR 999999: Something unexpected caused the tool to fail. Contact Esri Technical Support (http://esriurl.com/support) to Report a Bug, and refer to the error help for potential solutions or workarounds.\n",
      "Failed to execute (ProjectRaster).\n",
      "\n",
      "ERROR 999999: Something unexpected caused the tool to fail. Contact Esri Technical Support (http://esriurl.com/support) to Report a Bug, and refer to the error help for potential solutions or workarounds.\n",
      "Failed to execute (ProjectRaster).\n",
      "\n",
      "ERROR 999999: Something unexpected caused the tool to fail. Contact Esri Technical Support (http://esriurl.com/support) to Report a Bug, and refer to the error help for potential solutions or workarounds.\n",
      "Failed to execute (ProjectRaster).\n",
      "\n",
      "ERROR 999999: Something unexpected caused the tool to fail. Contact Esri Technical Support (http://esriurl.com/support) to Report a Bug, and refer to the error help for potential solutions or workarounds.\n",
      "Failed to execute (ProjectRaster).\n",
      "\n"
     ]
    }
   ],
   "source": [
    "# Try using arcpy.ListRasters\n",
    "\n",
    "import os\n",
    "import arcpy\n",
    "# Set base path for raw rasters\n",
    "climate_variable = \"tmax\"\n",
    "\n",
    "# arcpy.env.workspace = os.path.join(r\"C:\\Users\\mmMary\\Documents\\8990\\T\\DATA\", climate_variable)\n",
    "in_raster = os.path.join(r\"C:\\Users\\mmMary\\Documents\\8990\\T\\DATA\", climate_variable)   \n",
    "out_raster = os.path.join(r\"C:\\Users\\mmMary\\Documents\\8990\\T\\LAYERS\\MN_Extent\", climate_variable)\n",
    "arcpy.env.workspace = in_raster\n",
    "\n",
    "raster_list = arcpy.ListRasters()\n",
    "for raster in raster_list:\n",
    "#     print(raster)\n",
    "    try:  \n",
    "        # Projection system for MN\n",
    "        spatial_reference_object = arcpy.SpatialReference(26915)\n",
    "        \n",
    "        # Project all US scale rasters\n",
    "        arcpy.management.ProjectRaster(raster, out_raster, spatial_reference_object)\n",
    "       \n",
    "        print(raster + \"in now in UTM 15N\")\n",
    "    \n",
    "    except Exception as e:\n",
    "        print(e)\n",
    "        "
   ]
  },
  {
   "cell_type": "code",
   "execution_count": null,
   "metadata": {},
   "outputs": [],
   "source": []
  },
  {
   "cell_type": "code",
   "execution_count": null,
   "metadata": {},
   "outputs": [],
   "source": []
  },
  {
   "cell_type": "code",
   "execution_count": null,
   "metadata": {},
   "outputs": [],
   "source": []
  },
  {
   "cell_type": "code",
   "execution_count": null,
   "metadata": {},
   "outputs": [],
   "source": []
  },
  {
   "cell_type": "markdown",
   "metadata": {},
   "source": [
    "File Collection & Preparation\n",
    "Files must be downloaded, unzipped, & projected. They are sourced from: https://prism.oregonstate.edu/normals/"
   ]
  },
  {
   "cell_type": "code",
   "execution_count": null,
   "metadata": {},
   "outputs": [],
   "source": [
    "# Import packages & set workspace\n",
    "import arcpy\n",
    "import requests as r\n",
    "from zipfile import ZipFile\n",
    "\n",
    "arcpy.env.workspace = r'C:\\Users\\mmMary\\Documents\\8990\\Map\\Weather_Map.aprx'"
   ]
  },
  {
   "cell_type": "code",
   "execution_count": null,
   "metadata": {},
   "outputs": [],
   "source": []
  },
  {
   "cell_type": "code",
   "execution_count": null,
   "metadata": {},
   "outputs": [],
   "source": []
  },
  {
   "cell_type": "markdown",
   "metadata": {},
   "source": [
    "#### Generate list for pulling all monthly & annual variables for normals\n",
    "#####  Number 14 is used to pull the annual normals "
   ]
  },
  {
   "cell_type": "code",
   "execution_count": 21,
   "metadata": {},
   "outputs": [
    {
     "name": "stdout",
     "output_type": "stream",
     "text": [
      "['01', '02', '03', '04', '05', '06', '07', '08', '09', '10', '11', '12', '14']\n"
     ]
    }
   ],
   "source": [
    "# Generate list for pulling all monthly & annual variables for normals\n",
    "# Number 14 is used to pull the annual normals \n",
    "\n",
    "MM = [\"%.2d\" % i for i in range(13)]\n",
    "MM.pop(0)\n",
    "MM.append('14')\n",
    "\n",
    "print(MM)\n",
    "\n",
    "# https://stackoverflow.com/questions/12030074/generate-list-of-numbers-in-specific-format"
   ]
  },
  {
   "cell_type": "markdown",
   "metadata": {},
   "source": [
    "# Reduce file name to only include weather variable & timeframe\n",
    "### This will avoid Esri's error for names that are too long"
   ]
  },
  {
   "cell_type": "markdown",
   "metadata": {},
   "source": [
    "climate_variable:\n",
    "- precip\n",
    "- tmax\n",
    "- tmin\n",
    "- tmean"
   ]
  },
  {
   "cell_type": "code",
   "execution_count": 102,
   "metadata": {},
   "outputs": [
    {
     "name": "stdout",
     "output_type": "stream",
     "text": [
      "ppt renamed files are done\n"
     ]
    }
   ],
   "source": [
    "# Copy raw data files into a new folder in the temperary data directiory to store the shorter named files\n",
    "# This preserves to raw data\n",
    "\n",
    "# import os\n",
    "\n",
    "def name_reducer(climate_variable):\n",
    "     \n",
    "# SET FILE PATH TO TEMPORARY DATA FOLDER\n",
    "    dir_path = os.path.join(r\"C:\\Users\\mmMary\\Documents\\8990\\T\\DATA\", climate_variable)\n",
    "    os.chdir(dir_path)\n",
    "    \n",
    "    for f in os.listdir():\n",
    "\n",
    "    # Split off file extension from filename\n",
    "        file_name, file_ext =os.path.splitext(f)\n",
    "\n",
    "    # Split each name component into seperate parts\n",
    "        prism, weather_type, yr, normal, resolution, month, extension = file_name.split('_')\n",
    "\n",
    "    # New name combines just the weather type,month, multiple file extensions where applicable & the last file type\n",
    "        new_name = '{}_{}_{}{}'.format(weather_type, month, extension, file_ext)\n",
    "\n",
    "    # Rename all files to short names\n",
    "        os.rename(f, new_name)\n",
    "\n",
    "    print(weather_type, \"renamed files are done\")\n",
    "\n",
    "name_reducer(\"precip\")\n",
    "    \n",
    "#     https://youtu.be/ve2pmm5JqmI\n",
    "\n"
   ]
  },
  {
   "cell_type": "markdown",
   "metadata": {},
   "source": [
    "# Reproject raw rasters into Minnesota Coordinate Refence System\n",
    "### EPSG 26915 - NAD83 UTM 15N"
   ]
  },
  {
   "cell_type": "code",
   "execution_count": null,
   "metadata": {},
   "outputs": [],
   "source": []
  },
  {
   "cell_type": "code",
   "execution_count": null,
   "metadata": {},
   "outputs": [],
   "source": []
  },
  {
   "cell_type": "code",
   "execution_count": null,
   "metadata": {},
   "outputs": [],
   "source": []
  },
  {
   "cell_type": "markdown",
   "metadata": {},
   "source": [
    "# Clip U.S. raw raster to MN extent"
   ]
  },
  {
   "cell_type": "markdown",
   "metadata": {},
   "source": [
    "Step 1: Project the entire U.S. .bil raster into MN CRS ESPG 26915"
   ]
  },
  {
   "cell_type": "code",
   "execution_count": null,
   "metadata": {},
   "outputs": [],
   "source": [
    "# This works when I project one file at a time but doesn't when looping thru folder (see below)\n",
    "\n",
    "import os\n",
    "# Set base path for raw rasters\n",
    "directory = os.fsencode(r\"C:\\Users\\mmMary\\Documents\\8990\\DATA\\Precipitation\")\n",
    "\n",
    "for file in os.listdir(directory):\n",
    "    filename = os.fsdecode(file)\n",
    "    if filename.endswith(\".bil\"):\n",
    "        \n",
    "# Get file names for all .bil files\n",
    "#         print(filename)\n",
    "                            \n",
    "        base_path = r\"C:\\Users\\mmMary\\Documents\\8990\\T\\Project_Rasters\\ppt\"\n",
    "        out_raster = os.path.join(base_path, filename)\n",
    "       \n",
    " # Projection system for MN\n",
    "        spatial_reference_object = arcpy.SpatialReference(26915)\n",
    "        \n",
    "# Project all US scale rasters\n",
    "        arcpy.management.ProjectRaster(filename, out_raster, spatial_reference_object)\n",
    "        print(output_file)"
   ]
  },
  {
   "cell_type": "code",
   "execution_count": null,
   "metadata": {},
   "outputs": [],
   "source": [
    "# Project raw .bil U.S. files into MN CRS ESPG 26915\n",
    "\n",
    "# This works when running ind layer\n",
    "\n",
    "# Create project command using spatial reference object\n",
    "\n",
    "in_raster = r\"C:\\Users\\mmMary\\Documents\\8990\\DATA\\Precipitation\\PRISM_ppt_30yr_normal_4kmM3_annual_bil.bil\"\n",
    "out_raster = r\"C:\\Users\\mmMary\\Documents\\8990\\T\\Project_Rasters\\ppt\\PRISM_ppt_30yr_normal_4kmM3_annual_bil.bil\"\n",
    "# wkt = 'PROJCS[\"NAD_1983_UTM_Zone_15N\",GEOGCS[\"GCS_North_American_1983\",DATUM[\"D_North_American_1983\",SPHEROID[\"GRS_1980\",6378137.0,298.257222101]],PRIMEM[\"Greenwich\",0.0],UNIT[\"Degree\",0.0174532925199433]],PROJECTION[\"Transverse_Mercator\"],PARAMETER[\"False_Easting\",500000.0],PARAMETER[\"False_Northing\",0.0],PARAMETER[\"Central_Meridian\",-93.0],PARAMETER[\"Scale_Factor\",0.9996],PARAMETER[\"Latitude_Of_Origin\",0.0],UNIT[\"Meter\",1.0]]'\n",
    "spatial_reference_object = arcpy.SpatialReference(26915)\n",
    "arcpy.management.ProjectRaster(in_raster, out_raster, spatial_reference_object)\n",
    "\n",
    "# Sources:\n",
    "# https://pro.arcgis.com/en/pro-app/latest/tool-reference/data-management/project-raster.htm\n",
    "# https://pro.arcgis.com/en/pro-app/latest/arcpy/classes/spatialreference.htm\n",
    "#     https://epsg.io/26915"
   ]
  },
  {
   "cell_type": "code",
   "execution_count": null,
   "metadata": {},
   "outputs": [],
   "source": [
    "# Another attempt to automate the projection. This, sadly, also raises an error (shown at the bottom)\n",
    "# Try using arcpy.ListRasters\n",
    "\n",
    "import os\n",
    "import arcpy\n",
    "# Set base path for raw rasters\n",
    "climate_variable = \"tmax\"\n",
    "\n",
    "# arcpy.env.workspace = os.path.join(r\"C:\\Users\\mmMary\\Documents\\8990\\T\\DATA\", climate_variable)\n",
    "in_raster = os.path.join(r\"C:\\Users\\mmMary\\Documents\\8990\\T\\DATA\", climate_variable)   \n",
    "out_raster = os.path.join(r\"C:\\Users\\mmMary\\Documents\\8990\\T\\LAYERS\\MN_Extent\", climate_variable)\n",
    "arcpy.env.workspace = in_raster\n",
    "\n",
    "raster_list = arcpy.ListRasters()\n",
    "for raster in raster_list:\n",
    "#     print(raster)\n",
    "    try:  \n",
    "        # Projection system for MN\n",
    "        spatial_reference_object = arcpy.SpatialReference(26915)\n",
    "        \n",
    "        # Project all US scale rasters\n",
    "        arcpy.management.ProjectRaster(raster, out_raster, spatial_reference_object)\n",
    "        print(raster + \"in now in UTM 15N\")\n",
    "    except Exception as e:\n",
    "        print(e)\n",
    "        \n",
    "        \n",
    "\"\"\"Something unexpected caused the tool to fail. Contact Esri Technical Support (http://esriurl.com/support) to Report a Bug, and refer to the error help for potential solutions or workarounds.\n",
    "Failed to execute (ProjectRaster).\"\"\"        "
   ]
  },
  {
   "cell_type": "code",
   "execution_count": null,
   "metadata": {},
   "outputs": [],
   "source": [
    "Step 2. Convert metric to standard units - milimeters to inches"
   ]
  },
  {
   "cell_type": "code",
   "execution_count": null,
   "metadata": {},
   "outputs": [],
   "source": []
  },
  {
   "cell_type": "code",
   "execution_count": null,
   "metadata": {},
   "outputs": [],
   "source": []
  },
  {
   "cell_type": "code",
   "execution_count": null,
   "metadata": {},
   "outputs": [],
   "source": []
  },
  {
   "cell_type": "code",
   "execution_count": null,
   "metadata": {},
   "outputs": [],
   "source": []
  },
  {
   "cell_type": "markdown",
   "metadata": {},
   "source": [
    "Clip raster to Minnesota boundary"
   ]
  },
  {
   "cell_type": "code",
   "execution_count": null,
   "metadata": {},
   "outputs": [],
   "source": [
    "input = \n",
    "\n",
    "arcpy.management.Clip(\"JAN_PRISM_ppt_30yr_normal_4kmM3_annual_bil.bil\", \"-97.2698643033953 43.4353843588883 -89.3971195198901 49.4045362223117\", r\"C:\\Users\\mmMary\\Documents\\8990\\Layers\\MN_Precip\\Jan\", \"State\", \"-9999\", \"ClippingGeometry\", \"NO_MAINTAIN_EXTENT\")"
   ]
  },
  {
   "cell_type": "markdown",
   "metadata": {
    "heading_collapsed": true
   },
   "source": [
    "# Step 3. Clip U.S. MN CRS raster to MN rectangle. \n",
    "This is bigger than MN boundary & leaves room to refine the edges after running the Contour tool."
   ]
  },
  {
   "cell_type": "code",
   "execution_count": null,
   "metadata": {
    "hidden": true,
    "scrolled": true
   },
   "outputs": [],
   "source": [
    "# Clip projected U.S. raster to MN Rectangle Extent\n",
    "\n",
    "import arcpy, os\n",
    "\n",
    "def extent_clip(climate_variable):\n",
    "    arcpy.env.workspace = os.path.join(r\"C:\\Users\\mmMary\\Documents\\8990\\T\\LAYERS\\UTM\", climate_variable)  \n",
    "    clip_shp = r\"C:\\Users\\mmMary\\Documents\\8990\\Layers\\MN_Boundary\\State.shp\"\n",
    "\n",
    "    raster_list = arcpy.ListRasters()\n",
    "    for raster in raster_list:\n",
    "        out_raster = os.path.join(r\"C:\\Users\\mmMary\\Documents\\8990\\T\\LAYERS\\MN_Extent\", climate_variable, raster) \n",
    "        arcpy.management.Clip(raster, \"170463.204 4796993.2567 780967.2014 5491739.865\", out_raster, clip_shp, \"-9999\", \"NONE\", \"MAINTAIN_EXTENT\")\n",
    "        print(raster + \" is clipped to MN rectangle\")\n",
    "        \n",
    "extent_clip(\"tmin\")\n",
    "\n",
    "\n",
    "# Sources\n",
    "# https://stackoverflow.com/questions/30043403/create-for-loop-to-process-multiple-rasters-in-a-file-using-arcpy-clip-managemen\n",
    "# https://pro.arcgis.com/en/pro-app/latest/tool-reference/data-management/clip.htm"
   ]
  },
  {
   "cell_type": "markdown",
   "metadata": {
    "heading_collapsed": true
   },
   "source": [
    "# Step 4. Convert Rasters from metric to standard units"
   ]
  },
  {
   "cell_type": "code",
   "execution_count": 1,
   "metadata": {
    "hidden": true
   },
   "outputs": [],
   "source": [
    "#import libraries\n",
    "import arcpy\n",
    "from arcpy.sa import *\n",
    "import os"
   ]
  },
  {
   "cell_type": "markdown",
   "metadata": {
    "hidden": true
   },
   "source": [
    "### Convert rain volumes from mm to inches\n",
    "#### mm / 25.4 = inches"
   ]
  },
  {
   "cell_type": "code",
   "execution_count": null,
   "metadata": {
    "hidden": true
   },
   "outputs": [],
   "source": [
    "climate_variable = \"precip\"\n",
    "in_raster_path = os.path.join(r\"C:\\Users\\mmMary\\Documents\\8990\\T\\LAYERS\\MN_Extent\", climate_variable)   \n",
    "arcpy.env.workspace = in_raster_path\n",
    "\n",
    "\n",
    "rasters = arcpy.ListRasters()\n",
    "for raster in rasters:\n",
    "# Directory for converted rasters    \n",
    "    new_raster = os.path.join(r\"C:\\Users\\mmMary\\Documents\\8990\\T\\LAYERS\\Standard_Units\", climate_variable, raster)  \n",
    "# Create a raster object\n",
    "    rasterObject = Raster(raster)\n",
    "# Convert from mm to inches\n",
    "    outraster = rasterObject / 25.4\n",
    "# Check the min & max values to assess quality    \n",
    "    min_inch = outraster.minimum\n",
    "    max_inch = outraster.maximum\n",
    "#Save to new folder\n",
    "    outraster.save(new_raster)    \n",
    "    print(\"Converted to inches: \", raster, \"min & max inches: \", min_inch, max_inch)"
   ]
  },
  {
   "cell_type": "markdown",
   "metadata": {
    "hidden": true
   },
   "source": [
    "### Convert temperature values from Celsius to Fahrenheit\n",
    "#### C° to F°: (Degrees°C x 1.8) + 32 = Degrees°F"
   ]
  },
  {
   "cell_type": "code",
   "execution_count": 2,
   "metadata": {
    "hidden": true
   },
   "outputs": [],
   "source": [
    "# A function to convert temperature from Celsius to Fahrenheit \n",
    "\n",
    "def celsius_to_fahren(climate_variable):\n",
    "    in_raster_path = os.path.join(r\"C:\\Users\\mmMary\\Documents\\8990\\T\\LAYERS\\MN_Extent\", climate_variable)   \n",
    "    arcpy.env.workspace = in_raster_path\n",
    "   \n",
    "\n",
    "    rasters = arcpy.ListRasters()\n",
    "    for raster in rasters:\n",
    "            \n",
    "        # Directory for converted rasters    \n",
    "        new_raster = os.path.join(r\"C:\\Users\\mmMary\\Documents\\8990\\T\\LAYERS\\Standard_Units\", climate_variable, raster)  \n",
    "        # Create a raster object\n",
    "        rasterObject = Raster(raster)\n",
    "        # Convert from Cesius to Fahrenheit\n",
    "        outraster = (rasterObject * 1.8) + 32\n",
    "        # Check the min & max values to assess quality    \n",
    "        min_temp = outraster.minimum\n",
    "        max_temp = outraster.maximum\n",
    "        #Save to new folder\n",
    "        outraster.save(new_raster)    \n",
    "        print(\"Converted to Degrees Fahrenheit: \", raster, \"min & max Degrees: \", min_temp, max_temp)\n",
    "\n"
   ]
  },
  {
   "cell_type": "code",
   "execution_count": null,
   "metadata": {
    "hidden": true,
    "scrolled": false
   },
   "outputs": [],
   "source": [
    "# Call the function for each temperature variables\n",
    "celsius_to_fahren(\"tmin\")"
   ]
  },
  {
   "cell_type": "markdown",
   "metadata": {
    "heading_collapsed": true
   },
   "source": [
    "# Step 5. Contour Tool to convert to Vector format.\n",
    "\n",
    "The Contour tool converts rasters into vectors. This eliminates pixellation of the map and converts it into a shapefile to ease file sharing and publication."
   ]
  },
  {
   "cell_type": "markdown",
   "metadata": {
    "hidden": true
   },
   "source": [
    "#### Contours for temperature:\n",
    "Monthly normals are split into 2 degree increments while the annual temperature normal is split into increments of 1 inch"
   ]
  },
  {
   "cell_type": "code",
   "execution_count": 33,
   "metadata": {
    "hidden": true
   },
   "outputs": [
    {
     "name": "stdout",
     "output_type": "stream",
     "text": [
      "['tmax_01_bil', 'tmax_02_bil', 'tmax_03_bil', 'tmax_04_bil', 'tmax_05_bil', 'tmax_06_bil', 'tmax_07_bil', 'tmax_08_bil', 'tmax_09_bil', 'tmax_10_bil', 'tmax_11_bil', 'tmax_12_bil', 'tmax_ann_bil', 'tmax_ann_bil']  is now contoured\n"
     ]
    }
   ],
   "source": [
    "def temp_contour(climate_variable):\n",
    "    arcpy.env.workspace = os.path.join(r\"C:\\Users\\mmMary\\Documents\\8990\\T\\LAYERS\\Standard_Units\", climate_variable)  \n",
    "    # List to hold names of rasters that were successfully converted\n",
    "    contour_list = []\n",
    "    \n",
    "    raster_list = arcpy.ListRasters()\n",
    "    for raster in raster_list:\n",
    "        input_raster = os.path.join(r\"C:\\Users\\mmMary\\Documents\\8990\\T\\LAYERS\\Standard_Units\", climate_variable, raster) \n",
    "        output_contour = os.path.join(r\"C:\\Users\\mmMary\\Documents\\8990\\T\\LAYERS\\Contour\", climate_variable, raster + \".shp\")\n",
    "        \n",
    "        \n",
    "        arcpy.sa.Contour(\n",
    "        input_raster, output_contour, \n",
    "        2, 0, 1, \"CONTOUR_POLYGON\", None)\n",
    "        \n",
    "        contour_list.append(raster)\n",
    "        \n",
    "    ann_raster = arcpy.ListRasters(\"*ann_bil*\")\n",
    "    for raster in ann_raster:\n",
    "\n",
    "        arcpy.sa.Contour(\n",
    "        input_raster, output_contour, \n",
    "        1, 0, 1, \"CONTOUR_POLYGON\", None)\n",
    "    \n",
    "        contour_list.append(raster)\n",
    "      \n",
    " # Show list of all converted files to make sure all were successful\n",
    "    print(contour_list, \" is now contoured\")\n",
    "\n",
    "# Call the function for each temperature variable    \n",
    "temp_contour(\"tmax\")    "
   ]
  },
  {
   "cell_type": "markdown",
   "metadata": {
    "hidden": true
   },
   "source": [
    "#### Contours for precipitation:\n",
    "Monthly normals are split into 0.25 inch increments while the annual precip normal is split into increments of 2 inches"
   ]
  },
  {
   "cell_type": "code",
   "execution_count": 14,
   "metadata": {
    "hidden": true
   },
   "outputs": [
    {
     "name": "stdout",
     "output_type": "stream",
     "text": [
      "C:\\Users\\mmMary\\Documents\\8990\\T\\LAYERS\\Contour\\precip\\ppt_ann_bil.shp is now contoured\n"
     ]
    }
   ],
   "source": [
    "import arcpy, os\n",
    "from arcpy.sa import *\n",
    "\n",
    "def precip_contour(climate_variable):\n",
    "    arcpy.env.workspace = os.path.join(r\"C:\\Users\\mmMary\\Documents\\8990\\T\\LAYERS\\Standard_Units\", climate_variable)  \n",
    "    # List to hold names of rasters that were successfully converted\n",
    "    contour_list = []\n",
    "    \n",
    "# Convert all of the monthly rasters using the 0.25 increment    \n",
    "    raster_list = arcpy.ListRasters()\n",
    "    for raster in raster_list:\n",
    "        input_raster = os.path.join(r\"C:\\Users\\mmMary\\Documents\\8990\\T\\LAYERS\\Standard_Units\", climate_variable, raster) \n",
    "        output_contour = os.path.join(r\"C:\\Users\\mmMary\\Documents\\8990\\T\\LAYERS\\Contour\", climate_variable, raster + \".shp\")\n",
    "        \n",
    "        arcpy.sa.Contour(\n",
    "        input_raster, output_contour, \n",
    "        0.25, 0, 1, \"CONTOUR_POLYGON\", None)\n",
    "        \n",
    "        contour_list.append(raster)\n",
    "\n",
    "# Handle the annual raster with 2 inch increment\n",
    "    ann_raster = arcpy.ListRasters(\"*ann_bil*\")\n",
    "    for raster in ann_raster:\n",
    "        \n",
    "        arcpy.sa.Contour(\n",
    "        input_raster, output_contour, \n",
    "        2, 15, 1, \"CONTOUR_POLYGON\", None)\n",
    "        \n",
    "        contour_list.append(raster)\n",
    "\n",
    "# Print out confirmation list to ensure all files were successfully converted\n",
    "    print(output_contour + \" is now contoured\")\n",
    "\n",
    "# Call the function for precipitation\n",
    "precip_contour(\"precip\")    \n",
    "       "
   ]
  },
  {
   "cell_type": "markdown",
   "metadata": {
    "hidden": true
   },
   "source": [
    "#### Sources:\n",
    "https://pro.arcgis.com/en/pro-app/latest/tool-reference/spatial-analyst/contour.htm"
   ]
  },
  {
   "cell_type": "markdown",
   "metadata": {},
   "source": [
    "# Step 6. Clip to Minnesota State Boundary\n",
    "This clips it to the exact MN boundary while preserving clean edges and data."
   ]
  },
  {
   "cell_type": "code",
   "execution_count": 38,
   "metadata": {
    "scrolled": true
   },
   "outputs": [
    {
     "name": "stdout",
     "output_type": "stream",
     "text": [
      "ppt_01_bil.shp is clipped to MN boundary\n",
      "ppt_02_bil.shp is clipped to MN boundary\n",
      "ppt_03_bil.shp is clipped to MN boundary\n",
      "ppt_04_bil.shp is clipped to MN boundary\n",
      "ppt_05_bil.shp is clipped to MN boundary\n",
      "ppt_06_bil.shp is clipped to MN boundary\n",
      "ppt_07_bil.shp is clipped to MN boundary\n",
      "ppt_08_bil.shp is clipped to MN boundary\n",
      "ppt_09_bil.shp is clipped to MN boundary\n",
      "ppt_10_bil.shp is clipped to MN boundary\n",
      "ppt_11_bil.shp is clipped to MN boundary\n",
      "ppt_12_bil.shp is clipped to MN boundary\n",
      "ppt_ann_bil.shp is clipped to MN boundary\n"
     ]
    }
   ],
   "source": [
    "# Clip projected U.S. raster to MN Rectangle Extent\n",
    "\n",
    "def MN_clip(climate_variable):\n",
    "    arcpy.env.workspace = os.path.join(r\"C:\\Users\\mmMary\\Documents\\8990\\T\\LAYERS\\Contour\", climate_variable)  \n",
    "    clip_feature = r\"C:\\Users\\mmMary\\Documents\\8990\\Layers\\MN_Boundary\\State.shp\"\n",
    "\n",
    "    feature_classes = arcpy.ListFeatureClasses()\n",
    "    for fc in feature_classes:\n",
    "        in_feature = os.path.join(arcpy.env.workspace, fc)\n",
    "        out_feature = os.path.join(r\"C:\\Users\\mmMary\\Documents\\8990\\Layers\\MN_Vector_Varibles\", climate_variable, fc) \n",
    "        \n",
    "        arcpy.analysis.Clip(in_feature, clip_feature, out_feature, None)\n",
    "        print(fc + \" is clipped to MN boundary\")\n",
    "        \n",
    "                \n",
    "MN_clip(\"precip\")"
   ]
  },
  {
   "cell_type": "markdown",
   "metadata": {},
   "source": [
    "# Step 7. Apply Symbology\n",
    "Set the symbology based on precipitation, temperature, monthly & annual values."
   ]
  },
  {
   "cell_type": "code",
   "execution_count": null,
   "metadata": {},
   "outputs": [],
   "source": [
    " feature_classes = arcpy.ListFeatureClasses()\n",
    "    for fc in feature_classes:"
   ]
  },
  {
   "cell_type": "code",
   "execution_count": null,
   "metadata": {},
   "outputs": [],
   "source": []
  },
  {
   "cell_type": "code",
   "execution_count": null,
   "metadata": {},
   "outputs": [],
   "source": []
  },
  {
   "cell_type": "code",
   "execution_count": null,
   "metadata": {},
   "outputs": [],
   "source": []
  },
  {
   "cell_type": "markdown",
   "metadata": {},
   "source": [
    "#### Sources:\n",
    "https://pro.arcgis.com/en/pro-app/latest/tool-reference/analysis/clip.htm ,/n https://pro.arcgis.com/en/pro-app/latest/arcpy/functions/listfeatureclasses.htm"
   ]
  }
 ],
 "metadata": {
  "kernelspec": {
   "display_name": "Python 3",
   "language": "python",
   "name": "python3"
  },
  "language_info": {
   "codemirror_mode": {
    "name": "ipython",
    "version": 3
   },
   "file_extension": ".py",
   "mimetype": "text/x-python",
   "name": "python",
   "nbconvert_exporter": "python",
   "pygments_lexer": "ipython3",
   "version": "3.9.11"
  }
 },
 "nbformat": 4,
 "nbformat_minor": 2
}
