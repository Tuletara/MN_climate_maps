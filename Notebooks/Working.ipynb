pip install geopandas
# import geopandas as gpd

conda install geopandas 

import numpy

import geopandas

import geopandas as gpd



p = arcpy.mp.ArcGISProject("CURRENT")
m = p.listMaps("Yosemite National Park")[0]
for lyr in m.listLayers():

import arcpy, os, sys
# relpath = os.path.dirname(sys.argv[0])

p = arcpy.mp.ArcGISProject(r"C:\Users\mmMary\Documents\8990\Map\Weather_Map\Weather_Map.aprx")

# assign the desired map frame to the map object. [0] refers to the first map frame in the project
# Also can use the map frame name with [0]
m = p.listMaps('Production')[0]

lyr = m.listLayers()[0]

# l = m.listLayers('PercentCover*')[0]
# sym = l.symbology

# sym.updateRenderer('UniqueValueRenderer')
# sym.renderer.fields = ['Percent']
# for grp in sym.renderer.groups:
#     for itm in grp.items:
#         transVal = itm.values[0][0] #Grab the first "percent" value in the list of potential values
#         itm.symbol.color = {'RGB': [255, 0, 0, int(transVal)]}
#         itm.label = str(transVal) + '%'

# l.symbology = sym
# p.saveACopy(relpath + r'\\SavedOutput.aprx')

# print(lyr)

m

# https://pro.arcgis.com/en/pro-app/latest/arcpy/mapping/uniquevaluerenderer-class.htm

import arcpy, os, sys
relpath = os.path.dirname(sys.argv[0])

p = arcpy.mp.ArcGISProject(relpath + r'\\UniqueValue.aprx')
m = p.listMaps('Map')[0]
l = m.listLayers('PercentCover*')[0]
sym = l.symbology

sym.updateRenderer('UniqueValueRenderer')
sym.renderer.fields = ['Percent']
for grp in sym.renderer.groups:
    for itm in grp.items:
        transVal = itm.values[0][0] #Grab the first "percent" value in the list of potential values
        itm.symbol.color = {'RGB': [255, 0, 0, int(transVal)]}
        itm.label = str(transVal) + '%'

l.symbology = sym
p.saveACopy(relpath + r'\\SavedOutput.aprx')


# https://pro.arcgis.com/en/pro-app/latest/arcpy/mapping/uniquevaluerenderer-class.htm

# ExportToPNG (map_document, out_png, {data_frame}, {df_export_width}, 
# {df_export_height}, {resolution}, {world_file}, {color_mode}, 
# {background_color}, {transparent_color}, {interlaced})
# world_file = True generates a georeferenced world file in 
# the same directory as the output file.

# Export laters as png


import arcpy
export_file = r"C:\Users\mmMary\Desktop\8990\test\jpegs"

mxd = arcpy.mp.MapDocument(r"C:\Users\mmMary\Documents\8990\Map\Weather_Map\Weather_Map.aprx")
df = arcpy.mapping.ListDataFrames(mxd, "Production")[0]
arcpy.mapping.ExportToPNG(mxd, export_file, df,
                          df_export_width=1600,
                          df_export_height=1200,
                          world_file=True)


# https://desktop.arcgis.com/en/arcmap/10.3/analyze/arcpy-mapping/exporttopng.htm

# ExportToPNG (map_document, out_png, {data_frame}, {df_export_width}, 
# {df_export_height}, {resolution}, {world_file}, {color_mode}, 
# {background_color}, {transparent_color}, {interlaced})
# world_file = True generates a georeferenced world file in 
# the same directory as the output file.

# Export laters as png


import arcpy
export_file = r"C:\Users\mmMary\Desktop\8990\test\jpegs"

mxd = arcpy.mapping.MapDocument(r"C:\Users\mmMary\Documents\8990\Map\Weather_Map\Weather_Map.aprx")
df = arcpy.mapping.ListDataFrames(mxd, "Production")[0]
arcpy.mapping.ExportToPNG(mxd, export_file, df,
                          df_export_width=1600,
                          df_export_height=1200,
                          world_file=True)


# https://desktop.arcgis.com/en/arcmap/10.3/analyze/arcpy-mapping/exporttopng.htm

import arcpy

export_file = r"C:\Users\mmMary\Desktop\8990\test\jpegs"

mxd = arcpy.mapping.MapDocument(r"C:\Users\mmMary\Documents\8990\Map\Weather_Map\Weather_Map.aprx")
df = arcpy.mapping.ListDataFrames(mxd, "Production")[0]
arcpy.mapping.ExportToPNG(mxd, export_file, df,
                          df_export_width=1600,
                          df_export_height=1200,
                          world_file=True)

import arcpy, os, sys
# relpath = os.path.dirname(sys.argv[0])

# p = arcpy.mp.ArcGISProject(relpath + r'\\UniqueValue.aprx')
# m = p.listMaps('Map')[0]
l = m.listLayers('PercentCover*')[0]
sym = l.symbology

featureclasses = arcpy.ListFeatureClasses()

for fc in featureclasses:
    # set symbology to unique values
    sym.updateRenderer('UniqueValueRenderer')
    # set symbolized field
    sym.renderer.fields = ['ContourMin']
    lyr.symbology = sym
    if fc.endswith("_ann_bil.shp"):

        
for grp in sym.renderer.groups:
    for itm in grp.items:
        transVal = itm.values[0][0] #Grab the first "percent" value in the list of potential values
        itm.symbol.color = {'RGB': [255, 0, 0, int(transVal)]}
        itm.label = str(transVal) + '%'

l.symbology = sym
p.saveACopy(relpath + r'\\SavedOutput.aprx')

# https://pro.arcgis.com/en/pro-app/latest/arcpy/mapping/uniquevaluerenderer-class.htm

arcpy.env.workspace = r"C:\Users\mmMary\Desktop\8990\precip"



featureclasses = arcpy.ListFeatureClasses()

for fc in featureclasses:
    sym = fc.symbology
    sym.updateRenderer('UniqueValueRenderer')
    sym.renderer.fields = ['ContourMin']
    sym.rnderer.colorRamp = arcpy.
#     return(lyr)
    
# print(lyr)
# #     sym = fc.symbology

import arcpy, os, sys
relpath = os.path.dirname(sys.argv[0])

p = arcpy.mp.ArcGISProject(relpath + r'\\UniqueValue.aprx')
# m = p.listMaps('Map')[0]
# l = m.listLayers('PercentCover*')[0]
# sym = l.symbology

# sym.updateRenderer('UniqueValueRenderer')
# sym.renderer.fields = ['Percent']
# for grp in sym.renderer.groups:
#     for itm in grp.items:
#         transVal = itm.values[0][0] #Grab the first "percent" value in the list of potential values
#         itm.symbol.color = {'RGB': [255, 0, 0, int(transVal)]}
#         itm.label = str(transVal) + '%'

# l.symbology = sym
# p.saveACopy(relpath + r'\\SavedOutput.aprx')

print(p)


# This applies symbology from another layer that must be stored 

# Apply symbology from layer

arcpy.env.workspace = r"C:\Users\mmMary\Documents\8990\T\LAYERS\symbology\precip"

# monthly_style = r"C:\Users\mmMary\Documents\8990\T\LAYERS\Layer_Styles\ppt_monthly.shp"
# ann_style = r"C:\Users\mmMary\Documents\8990\Layers\Symbology_Layers\ppt_ann_style.shp"

featureclasses = arcpy.ListFeatureClasses()

for fc in featureclasses:
    if fc.endswith("_ann_bil.shp"):
        arcpy.management.ApplySymbologyFromLayer(fc, "ppt_ann_style", 
                                         "VALUE_FIELD ContourMin ContourMin", "MAINTAIN")
#     else:
# #         print(fc)
#         arcpy.management.ApplySymbologyFromLayer(fc, "ppt_monthly", 
#                                          "VALUE_FIELD ContourMin ContourMin", "MAINTAIN")

# This applies symbology from another layer that must be stored 

# Apply symbology from layer

arcpy.env.workspace = r"C:\Users\mmMary\Documents\8990\T\LAYERS\symbology\precip"

# monthly_style = r"C:\Users\mmMary\Documents\8990\T\LAYERS\Layer_Styles\ppt_monthly.shp"
# ann_style = r"C:\Users\mmMary\Documents\8990\Layers\Symbology_Layers\ppt_ann_style.shp"

featureclasses = arcpy.ListFeatureClasses()

for fc in featureclasses:
    if fc.endswith("_ann_bil.shp"):
        arcpy.management.ApplySymbologyFromLayer(fc, "ppt_ann_style", 
                                         "VALUE_FIELD ContourMin ContourMin", "MAINTAIN")
#     else:
# #         print(fc)
#         arcpy.management.ApplySymbologyFromLayer(fc, "ppt_monthly", 
#                                          "VALUE_FIELD ContourMin ContourMin", "MAINTAIN")

arcpy.Tmp.BatchApplySymbologyFromLayer(
    r"C:\Users\mmMary\Documents\8990\T\LAYERS\symbology\precip\ppt_01_bil.shp;C:\Users\mmMary\Documents\8990\T\LAYERS\symbology\precip\ppt_02_bil.shp;C:\Users\mmMary\Documents\8990\T\LAYERS\symbology\precip\ppt_03_bil.shp;C:\Users\mmMary\Documents\8990\T\LAYERS\symbology\precip\ppt_04_bil.shp;C:\Users\mmMary\Documents\8990\T\LAYERS\symbology\precip\ppt_05_bil.shp;C:\Users\mmMary\Documents\8990\T\LAYERS\symbology\precip\ppt_06_bil.shp;C:\Users\mmMary\Documents\8990\T\LAYERS\symbology\precip\ppt_07_bil.shp;C:\Users\mmMary\Documents\8990\T\LAYERS\symbology\precip\ppt_08_bil.shp;C:\Users\mmMary\Documents\8990\T\LAYERS\symbology\precip\ppt_09_bil.shp;C:\Users\mmMary\Documents\8990\T\LAYERS\symbology\precip\ppt_10_bil.shp;C:\Users\mmMary\Documents\8990\T\LAYERS\symbology\precip\ppt_11_bil.shp;C:\Users\mmMary\Documents\8990\T\LAYERS\symbology\precip\ppt_12_bil.shp", 
                                       "ppt_monthly", None, "MAINTAIN")



arcpy.management.ApplySymbologyFromLayer("ppt_06_bil", "ppt_monthly", "VALUE_FIELD ContourMin ContourMin", "MAINTAIN")



# Contour for precipitation in 0.25 inch increments
import arcpy, os
from arcpy.sa import *

def contour(climate_variable):
    arcpy.env.workspace = os.path.join(r"C:\Users\mmMary\Documents\8990\T\LAYERS\Standard_Units", climate_variable)  
    
    raster_list = arcpy.ListRasters()
    for raster in raster_list:
        input_raster = os.path.join(r"C:\Users\mmMary\Documents\8990\T\LAYERS\Standard_Units", climate_variable, raster) 
        output_contour = os.path.join(r"C:\Users\mmMary\Documents\8990\T\LAYERS\Contour", climate_variable, raster + ".shp")
        
        
        arcpy.sa.Contour(
        input_raster, output_contour, 
        0.25, 0, 1, "CONTOUR_POLYGON", None)
       
    
        print(output_contour + " is now contoured")
        
contour("tmax")


# Contour
import arcpy, os

def contour(climate_variable):
    arcpy.env.workspace = os.path.join(r"C:\Users\mmMary\Documents\8990\T\LAYERS\Standard_Units", climate_variable)  
    
#     raster_list = arcpy.ListRasters()
#     for raster in raster_list:
#         input_raster = os.path.join(r"C:\Users\mmMary\Documents\8990\T\LAYERS\Standard_Units", climate_variable, raster) 
#         output_contour = os.path.join(r"C:\Users\mmMary\Documents\8990\T\LAYERS\Contour", climate_variable, raster + ".shp")
        
        
#         arcpy.sa.Contour(
#         input_raster, output_contour, 
#         0.25, 0, 1, "CONTOUR_POLYGON", None)
        
    ann_raster = arcpy.ListRasters("*ann_bil", ".bil")
    for raster in ann_raster:
        input_raster = os.path.join(r"C:\Users\mmMary\Documents\8990\T\LAYERS\Standard_Units", climate_variable, raster) 
        output_contour = os.path.join(r"C:\Users\mmMary\Documents\8990\T\LAYERS\Contour", climate_variable, raster + ".shp")
             
        arcpy.sa.Contour(
            input_raster, output_contour, 
            2, 15, 1, "CONTOUR_POLYGON", None)
       
    
        print(output_contour + " is now contoured")
        
contour("precip")




climate_variable = "precip"
arcpy.env.workspace = os.path.join(r"C:\Users\mmMary\Documents\8990\T\LAYERS\Standard_Units", climate_variable)  

ann_raster = arcpy.ListRasters("*ann_bil*")
for raster in ann_raster:
    input_raster = os.path.join(r"C:\Users\mmMary\Documents\8990\T\LAYERS\Standard_Units", climate_variable, raster) 
    output_contour = os.path.join(r"C:\Users\mmMary\Documents\8990\T\LAYERS\Contour", climate_variable, raster + ".shp")

    arcpy.sa.Contour(
        input_raster, output_contour, 
        2, 15, 1, "CONTOUR_POLYGON", None)


    print(output_contour + " is now contoured")

# Contour
# Handles annual amounts but need to integrate with monthly
import arcpy, os

def contour(climate_variable):
    arcpy.env.workspace = os.path.join(r"C:\Users\mmMary\Documents\8990\T\LAYERS\Standard_Units", climate_variable)  
    
    raster_list = arcpy.ListRasters("*ann*")
    for raster in raster_list:
        input_raster = os.path.join(r"C:\Users\mmMary\Documents\8990\T\LAYERS\Standard_Units", climate_variable, raster) 
        output_contour = os.path.join(r"C:\Users\mmMary\Documents\8990\T\LAYERS\Contour", climate_variable, raster + ".shp")
        
#         if input_raster.endswith(".bil"):
            
        
        
        arcpy.sa.Contour(
        input_raster, output_contour, 
        1, 10, 1, "CONTOUR_POLYGON", None)
       
    
        print(output_contour + " is now contoured")
        
contour("precip")


# this is an infinite loop

# Contour
# Handles annual amounts but need to integrate with monthly
import arcpy, os
climate_variable = "tmax"
arcpy.env.workspace = os.path.join(r"C:\Users\mmMary\Documents\8990\T\LAYERS\Standard_Units", climate_variable)  
contour_list = []

raster_list = arcpy.ListRasters()
for raster in raster_list:
    
    output_contour = os.path.join(r"C:\Users\mmMary\Documents\8990\T\LAYERS\Contour", climate_variable, raster + ".shp")
    for raster in raster_list:
        arcpy.sa.Contour(
            input_raster, output_contour, 
            0.25, 0, 1, "CONTOUR_POLYGON", None)

        contour_list.append(output_contour)

print(contour_list)


# this is an infinite loop

Contour
# Handles annual amounts but need to integrate with monthly
import arcpy, os
climate_variable = "tmax"
arcpy.env.workspace = os.path.join(r"C:\Users\mmMary\Documents\8990\T\LAYERS\Standard_Units", climate_variable)  
contour_list = []

raster_list = arcpy.ListRasters()
for raster in raster_list:
    output_contour = os.path.join(r"C:\Users\mmMary\Documents\8990\T\LAYERS\Contour", climate_variable, raster + ".shp")

    if raster.endswith("_ann_bil.bil"):
     
        arcpy.sa.Contour(
            input_raster, output_contour, 
            1, 25, 1, "CONTOUR_POLYGON", None)

        # Add to list for verification
        contour_list.append(output_contour)    
    
    else:
        
        for raster in raster_list:
            output_contour = os.path.join(r"C:\Users\mmMary\Documents\8990\T\LAYERS\Contour", climate_variable, raster + ".shp")
            arcpy.sa.Contour(
                input_raster, output_contour, 
                0.25, 0, 1, "CONTOUR_POLYGON", None)

            contour_list.append(output_contour)
        
print(contour_list)


# Contour
# Handles annual amounts but need to integrate with monthly
import arcpy, os
climate_variable = "tmax"
arcpy.env.workspace = os.path.join(r"C:\Users\mmMary\Documents\8990\T\LAYERS\Standard_Units", climate_variable)  
contour_list = []
# Create an object to hold annual raster
annual_raster = arcpy.ListRasters("*an*")
for raster in raster_list:
    output_contour = os.path.join(r"C:\Users\mmMary\Documents\8990\T\LAYERS\Contour", climate_variable, raster + ".shp")
#         return print("annual raster ", annual_raster)
    
    arcpy.sa.Contour(
        input_raster, output_contour, 
        1, 25, 1, "CONTOUR_POLYGON", None)
    
    # Add to list for verification
    contour_list.append(output_contour)    

        
    raster_list = arcpy.ListRasters()
for raster in raster_list:
    output_contour = os.path.join(r"C:\Users\mmMary\Documents\8990\T\LAYERS\Contour", climate_variable, raster + ".shp")
    arcpy.sa.Contour(
        input_raster, output_contour, 
        0.25, 0, 1, "CONTOUR_POLYGON", None)
        
        contour_list.append(output_contour)
        
print(contour_list)

       
       
    
    
#     print(raster)
        

    
#     
#         print(output_contour + " is now contoured")
        
# contour("precip")

# Contour
# Handles annual amounts but need to integrate with monthly
import arcpy, os

def contour(climate_variable):
    arcpy.env.workspace = os.path.join(r"C:\Users\mmMary\Documents\8990\T\LAYERS\Standard_Units", climate_variable)  
    
    if raster_list = arcpy.ListRasters("*ann*"):
    for raster in raster_list:
        input_raster = os.path.join(r"C:\Users\mmMary\Documents\8990\T\LAYERS\Standard_Units", climate_variable, raster) 
        output_contour = os.path.join(r"C:\Users\mmMary\Documents\8990\T\LAYERS\Contour", climate_variable, raster + ".shp")
        
#         if input_raster.endswith(".bil"):      
        arcpy.sa.Contour(
        input_raster, output_contour, 
        1, 10, 1, "CONTOUR_POLYGON", None)
    return out_contour as "ann_con"
   
    else:
        
        raster_list = arcpy.ListRasters()
    for raster in raster_list:
        input_raster = os.path.join(r"C:\Users\mmMary\Documents\8990\T\LAYERS\Standard_Units", climate_variable, raster) 
        output_contour = os.path.join(r"C:\Users\mmMary\Documents\8990\T\LAYERS\Contour", climate_variable, raster + ".shp")
        
        
        arcpy.sa.Contour(
        input_raster, output_contour, 
        0.25, 0, 1, "CONTOUR_POLYGON", None)
       
    
        print(output_contour + " is now contoured")
        
contour("precip")

# Contour
# Handles annual amounts but need to integrate with monthly
import arcpy, os

# def contour(climate_variable):
arcpy.env.workspace = os.path.join(r"C:\Users\mmMary\Documents\8990\T\LAYERS\Standard_Units", climate_variable)  
    
for raster in raster_list:
    input_raster = os.path.join(r"C:\Users\mmMary\Documents\8990\T\LAYERS\Standard_Units", climate_variable, raster) 
    output_contour = os.path.join(r"C:\Users\mmMary\Documents\8990\T\LAYERS\Contour", climate_variable, raster + ".shp")
    
        if raster_list = arcpy.ListRasters("*ann*"):
        print("annual found", raster)
        
        else:
              print("montly are:", raster)


for raster in raster_list:
    if raster = arcpy.ListRasters("*ann*"):
        print("found")

import arcpy, os
from arcpy.sa import *
climate_variable = "tmax"
arcpy.env.workspace = os.path.join(r"C:\Users\mmMary\Documents\8990\T\LAYERS\Standard_Units", climate_variable)  
    
raster_list = arcpy.ListRasters()
for raster in raster_list:
    input_raster = os.path.join(r"C:\Users\mmMary\Documents\8990\T\LAYERS\Standard_Units", climate_variable, raster) 
    output_contour = os.path.join(r"C:\Users\mmMary\Documents\8990\T\LAYERS\Contour", climate_variable, raster + ".shp")
    
     arcpy.sa.Contour(input_raster, output_contour, 
                      0.25, 0, 1, "CONTOUR_POLYGON", None)
        
#         if input_raster.endswith(".bil"):
            
            
    
print(output_contour + " is now contoured")

arcpy.sa.Contour(
    r"C:\Users\mmMary\Documents\8990\T\LAYERS\Standard_Units\precip\ppt_01_bil", 
    r"C:\Users\mmMary\Documents\8990\T\LAYERS\Contour\precip\ppt_01_bil.shp", 
    0.25, 0, 1, "CONTOUR_POLYGON", None)

import arcpy
from arcpy.sa import *
import os

climate_variable = "precip"
in_raster_path = os.path.join(r"C:\Users\mmMary\Documents\8990\T\LAYERS\MN_Extent", climate_variable)   
arcpy.env.workspace = in_raster_path


rasters = arcpy.ListRasters()
for raster in rasters:
    
    new_raster = os.path.join(r"C:\Users\mmMary\Documents\8990\T\LAYERS\Inches", climate_variable, raster)  
# Create a raster object
    rasterObject = Raster(raster)
#         rasterObject.maximum
# Convert from mm to inches
    outraster = rasterObject / 25.4
    min_inch = outraster.minimum
    max_inch = outraster.maximum
#Save to new folder
    outraster.save(new_raster)    
    print("Converted to inches: ", raster, "min & max inches: ", min_inch, max_inch)

print(roInch.maximum)

# This works individually on the raw raster 
arcpy.env.workspace = r"C:\Users\mmMary\Desktop\8990\Precipitation"
rasterObject = Raster('PRISM_ppt_30yr_normal_4kmM3_01_bil.bil')
rasterObject.maximum
roInch = rasterObject / 25.4
roInch.maximum
roInch.minimum

arcpy.env.workspace = r"C:\Users\mmMary\Desktop\8990\Precipitation"

rasters = arcpy.ListRasters()

for raster in rasters:
#     print(raster)
    


# create raster object
    rast_object = Raster(raster)
    raster.maximum

#     type(rast_object)

arcpy.env.workspace = r"C:\Users\mmMary\Documents\8990\T\LAYERS\MN_Extent\precip"

rasters = arcpy.ListRasters()

for raster in rasters:
    print(raster)
# create raster object
#     rast_object = Raster(raster)

# A function to convert temperature from Celsius to Fahrenheit 
import arcpy, os
def celsius_to_fahren(climate_variable):
    in_raster_path = os.path.join(r"C:\Users\mmMary\Documents\8990\T\LAYERS\Standard_Units", climate_variable)   
    arcpy.env.workspace = in_raster_path
   

    rasters = arcpy.ListRasters()
    for raster in rasters:
            
        # Directory for converted rasters    
#         new_raster = os.path.join(r"C:\Users\mmMary\Documents\8990\T\LAYERS\Standard_Units", climate_variable, raster)  
        # Create a raster object
        rasterObject = Raster(raster)
        # Convert from Cesius to Fahrenheit
#         outraster = (rasterObject * 1.8) + 32
        # Check the min & max values to assess quality    
#         min_temp = raster.minimum
#         max_temp = raster.maximum
        #Save to new folder
#         outraster.save(new_raster)    
        print(raster, "min & max Degrees: ", min_temp, max_temp)
        print(in_raster_path)
    
celsius_to_fahren("tmax")



import numpy
# RasterToNumPyArray
# NumPyArrayToRaster

import gdal

import arcpy
import numpy as np

# Get input Raster properties
inRas = arcpy.Raster(r"C:\Users\mmMary\Desktop\8990\Precipitation\PRISM_ppt_30yr_normal_4kmM3_01_bil.bil")
# lowerLeft = arcpy.Point(inRas.extent.XMin,inRas.extent.YMin)
# cellSize = inRas.meanCellWidth

# Convert Raster to numpy array
arr = arcpy.RasterToNumPyArray(inRas)

# Convert to inches by dividing by 25.4

arrInch = np.divide(arr, 25.4) 

# # Calculate percentage of the row for each cell value
# arrSum = arr.sum(1)
# arrSum.shape = (arr.shape[0],1)
# arrPerc = (arr)/arrSum

# #Convert Array to raster (keep the origin and cellsize the same as the input)
newRaster = arcpy.NumPyArrayToRaster(arrInch)
newRaster.save(r"C:\Users\mmMary\Desktop\8990\Precipitation\test")


arr = RasterToNumPyArray(r"C:\Users\mmMary\Desktop\8990\Precipitation\PRISM_ppt_30yr_normal_4kmM3_01_bil.bil")

# Clip reprojected U.S. raster to MN Boundary

import arcpy, os
mn_boundary = r"C:\Users\mmMary\Documents\8990\Layers\MN_Boundary\State.shp"
arcpy.env.workspace = r"C:\Users\mmMary\Documents\8990\T\Project_Rasters\ppt"

raster_list = arcpy.ListRasters()
for raster in raster_list:
    mn_raster = os.path.join(r"C:\Users\mmMary\Documents\8990\T\MN_Extent_Clip", "mn" + raster )
    arcpy.management.Clip(raster, "189775.332 4816305.37 761655.0734 5472427.737", mn_raster, "State", "99999", "ClippingGeometry", "NO_MAINTAIN_EXTENT")
    
    


# Sources
# https://stackoverflow.com/questions/30043403/create-for-loop-to-process-multiple-rasters-in-a-file-using-arcpy-clip-managemen
# https://pro.arcgis.com/en/pro-app/latest/tool-reference/data-management/clip.htm



# create raster function for mm to inches
# Iterate thru raster list when calling the function
# outToolName = (i.e. outSlope = ) saves as a temp layer
# use outRas.save("name") to permanently save

# import os
# directory = 'files'

# # Iterate over files in 

# for file in os.listdir(directory):
#     f = os.path.join(directory, file)
    
    
# This works when I project one file at a time but doesn't when looping thru folder

import os
# Set base path for raw rasters
climate_variable = "precip"
in_raster = os.path.join(r"C:\Users\mmMary\Desktop\8990", climate_variable)   

directory = os.fsencode(in_raster)
# print(directory)

for file in os.listdir(directory):
    filename = os.fsdecode(file)
#     if filename.endswith(".bil"):
        # Create raster object
    standard_raster = Raster(filename)

#         metric_raster = filename / 25.4
    standard_raster.maximum
    
        
#     print(filename)
        
# # Get file names for all .bil files
# #         print(filename)
                            
#         base_path = r"C:\Users\mmMary\Documents\8990\T\Project_Rasters\ppt"
#         out_raster = os.path.join(base_path, filename)
       
#  # Projection system for MN
#         spatial_reference_object = arcpy.SpatialReference(26915)
        
# # Project all US scale rasters
#         arcpy.management.ProjectRaster(filename, out_raster, spatial_reference_object)
#         print(output_file)    

# Contour tool
climate_variable = "precip"

in_raster = os.path.join(r"C:\Users\mmMary\Documents\8990\T\LAYERS\MN_Extent", climate_variable)   
out_raster = os.path.join(r"C:\Users\mmMary\Documents\8990\T\LAYERS\Calc_Contour", climate_variable)
# arcpy.env.workspace = in_raster
os.chdir(in_raster)

raster_list = arcpy.ListRasters()
for raster in raster_list:
    
    output_raster = arcpy.sa.RasterCalculator(raster, raster, (' "raster" / 25.4'));
                                              
    output_raster.save(r"C:\Users\mmMary\Documents\8990\T\LAYERS\Calc_Contour")    
type(raster)    

# import os
# import arcpy
# from arcpy.sa import *
# from pathlib import Path

# # Iterate rasters
# climate_variable = "precip"

in_raster = os.path.join(r"C:\Users\mmMary\Desktop\8990\Precipitation")   
# out_raster = os.path.join(r"C:\Users\mmMary\Documents\8990\T\LAYERS\Inches", climate_variable)
# arcpy.env.workspace = in_raster
os.chdir(in_raster)

raster_list = arcpy.ListRasters()
for raster in raster_list:
        if filename.endswith(".bil"):
      
    #Create raster object
            standard_raster = Raster(raster)
        
            print(Path.cwd())
#         print(standard_raster)

#         metric_raster = standard_raster / 25.4
#         print("worked for: ", raster)
        
    
#     type(standard_raster)
    
#     output_raster.save(r"C:\Users\mmMary\Documents\8990\T\LAYERS\Calc_Contour")    
    
    


# # arcpy.env.extent = "march_clip"
# standard_rast = Raster('March_clip') 

# rast.maximum
# rast.minimum
# # 17.45479965209961
# # rast.maximum
# # 58.68549728393555
# march_inch_2 = standard_rast / 25.4

import os
import arcpy
from arcpy.sa import *
from pathlib import Path

# Iterate rasters
climate_variable = "precip"

in_raster = os.path.join(r"C:\Users\mmMary\Documents\8990\T\LAYERS\MN_Extent", climate_variable)   
out_raster = os.path.join(r"C:\Users\mmMary\Documents\8990\T\LAYERS\Inches", climate_variable)
# arcpy.env.workspace = in_raster
os.chdir(in_raster)

raster_list = arcpy.ListRasters()
for raster in raster_list:
      
    #Create raster object
        standard_raster = Raster(raster)
        
        print(Path.cwd())
#         print(standard_raster)

#         metric_raster = standard_raster / 25.4
#         print("worked for: ", raster)
        
    
#     type(standard_raster)
    
#     output_raster.save(r"C:\Users\mmMary\Documents\8990\T\LAYERS\Calc_Contour")    
    
    


# # arcpy.env.extent = "march_clip"
# standard_rast = Raster('March_clip') 

# rast.maximum
# rast.minimum
# # 17.45479965209961
# # rast.maximum
# # 58.68549728393555
# march_inch_2 = standard_rast / 25.4

import os
import arcpy
from arcpy.sa import *
# Iterate rasters
climate_variable = "precip"

in_raster = os.path.join(r"C:\Users\mmMary\Documents\8990\T\LAYERS\MN_Extent", climate_variable)   
out_raster = os.path.join(r"C:\Users\mmMary\Documents\8990\T\LAYERS\Inches", climate_variable)
# arcpy.env.workspace = in_raster
os.chdir(in_raster)

raster_list = arcpy.ListRasters()
for raster in raster_list:
    try:
    
    #Create raster object
        standard_raster = Raster(raster)

        metric_raster = standard_raster / 25.4
        print("worked for: ", raster)
        
    
#     type(standard_raster)
    except Exception as e:
        print("didn't work for: ", raster)
                                                     
#     output_raster.save(r"C:\Users\mmMary\Documents\8990\T\LAYERS\Calc_Contour")    
    
    


# # arcpy.env.extent = "march_clip"
# standard_rast = Raster('March_clip') 

# rast.maximum
# rast.minimum
# # 17.45479965209961
# # rast.maximum
# # 58.68549728393555
# march_inch_2 = standard_rast / 25.4

type

print(os.getcwd())

import arcpy
from arcpy.sa import *
# arcpy.env.extent = "march_clip"

# Create a raster object 
rast = Raster('March_clip') 

rast.maximum
rast.minimum
# 17.45479965209961
# rast.maximum
# 58.68549728393555
march_inch_2 = rast / 25.4

type(rast)

metric_raster = r"C:\Users\mmMary\Documents\8990\T\DATA\tmax\tmax_01_bil.bil"
# expression = 'metric_raster / 25.4'
output_raster = r"C:\Users\mmMary\Desktop\8990\test"

inch_raster = RasterCalculator('"metric_raster" / 25.4', output_raster)

import arcpy
from arcpy.sa import *

input_raster = r"C:\Users\mmMary\Documents\8990\T\LAYERS\MN_Extent\tmax\tmax_01_bil"
output_raster_path =  r"C:\Users\mmMary\Desktop\8990\test"
# r"C:\Users\mmMary\Documents\8990\T\LAYERS\Inches\tmin\tmin_ann_bil"
expression = "input_raster / 25.4"

output_raster = arcpy.sa.RasterCalculator(' "tmax_01_bil"   / 25.4'); output_raster.save(r"C:\Users\mmMary\Desktop\8990\test")

# output_raster = arcpy.sa.RasterCalculator(expression); output_raster.save(
#     output_raster_path)


# output_raster = arcpy.sa.RasterCalculator(
#     ' "tmin_ann_bil"   / 25.4'); output_raster.save(
#     r"C:\Users\mmMary\Documents\8990\T\LAYERS\Inches\tmin\tmin_ann_bil")



# This works when I project one file at a time but doesn't when looping thru folder

import os
# Set base path for raw rasters
directory = os.fsencode(r"C:\Users\mmMary\Documents\8990\DATA\Precipitation")

for file in os.listdir(directory):
    filename = os.fsdecode(file)
    if filename.endswith(".bil"):
        
# Get file names for all .bil files
#         print(filename)
                            
        base_path = r"C:\Users\mmMary\Documents\8990\T\Project_Rasters\ppt"
        out_raster = os.path.join(base_path, filename)
       
 # Projection system for MN
        spatial_reference_object = arcpy.SpatialReference(26915)
        
# Project all US scale rasters
        arcpy.management.ProjectRaster(filename, out_raster, spatial_reference_object)
        print(output_file)


Raster Calculator
=====================
Parameters

Map Algebra expression      "tmin_ann_bil"   / 25.4
Output raster     C:\Users\mmMary\Documents\8990\T\LAYERS\Inches\tmin\tmin_ann_bil
=====================
Messages

Start Time: Sunday, November 20, 2022 10:41:37 PM
Raster(r"tmin_ann_bil")   / 25.4
Succeeded at Sunday, November 20, 2022 10:41:37 PM (Elapsed Time: 0.46 seconds)






# Check out the ArcGIS Spatial Analyst extension license
arcpy.CheckOutExtension("Spatial")

output_raster = arcpy.ia.RasterCalculator(r' "C:\Users\mmMary\Documents\8990\T\LAYERS\MN_Extent\tmin\tmin_02_bil" / 25.4'); output_raster.save(r"C:\Users\mmMary\Desktop\8990\test\rc_tmin_02")

# Convert milimeters to inches with raster calculator
inch_raster = path + "PPT/temp/inches/" + month


# output_raster = arcpy.sa.RasterCalculator(' "clip_output" / 25.4'); output_raster.save(inch_raster)

print("inches raster is located in: " + inch_raster )

in_raster = r"C:\Users\mmMary\Documents\8990\T\LAYERS\MN_Extent\tmean\tmean_01_bil"
out_raster = r"C:\Users\mmMary\Documents\8990\T\LAYERS\Inches\tmean\tmean_01_bil"

output_raster = arcpy.sa.RasterCalculator(' "in_raster"  / 25.4'); output_raster.save("out_raster")
# output_raster = arcpy.sa.RasterCalculator(' "tmin_05_bil"   / 25.4'); output_raster.save(r"C:\Users\mmMary\Documents\8990\T\LAYERS\Inches\tmin\tmin_05_bil")

# Contour tool
climate_variable = "precip"

in_raster = os.path.join(r"C:\Users\mmMary\Documents\8990\T\LAYERS\MN_Extent", climate_variable)   
out_raster = os.path.join(r"C:\Users\mmMary\Documents\8990\T\LAYERS\Calc_Contour", climate_variable)
# arcpy.env.workspace = in_raster
os.chdir(in_raster)

raster_list = arcpy.ListRasters()
for raster in raster_list:
    
    output_raster = arcpy.sa.RasterCalculator(raster, raster, (' "raster" / 25.4'));
                                              
    output_raster.save(r"C:\Users\mmMary\Documents\8990\T\LAYERS\Calc_Contour")    
    
    
    
#     RasterCalculator (rasters, input_names, (' "raster" / 25.4'), None, None)
#     arcpy.sa.RasterCalculator [raster] (' "raster" / 25.4'), None, None)
    
#     arcpy.sa.RasterCalculator(' "raster" / 25.4'); output_raster.save(out_raster)
    print("now in inches")

    
    


#     print(os.getcwd())
# print(in_raster)

# Contour tool
climate_variable = "precip"

in_raster = os.path.join(r"C:\Users\mmMary\Documents\8990\T\LAYERS\MN_Extent", climate_variable)   
out_raster = os.path.join(r"C:\Users\mmMary\Documents\8990\T\LAYERS\Calc_Contour", climate_variable)
# arcpy.env.workspace = in_raster
os.chdir(in_raster)

raster_list = arcpy.ListRasters()
for raster in raster_list:
    
    
    
    output_raster = arcpy.sa.RasterCalculator(raster, raster, (' "raster" / 25.4'));
                                              
    output_raster.save(r"C:\Users\mmMary\Documents\8990\T\LAYERS\Calc_Contour")    
    
    input_names = raster
    expression = '/ 25.4'
    
    
#     RasterCalculator (rasters, input_names, (' "raster" / 25.4'), None, None)
#     arcpy.sa.RasterCalculator [raster] (' "raster" / 25.4'), None, None)
    
#     arcpy.sa.RasterCalculator(' "raster" / 25.4'); output_raster.save(out_raster)
    print("now in inches")

    
    


#     print(os.getcwd())
# print(in_raster)







# Try using arcpy.ListRasters

import os
import arcpy
# Set base path for raw rasters
climate_variable = "tmax"

# arcpy.env.workspace = os.path.join(r"C:\Users\mmMary\Documents\8990\T\DATA", climate_variable)
in_raster = os.path.join(r"C:\Users\mmMary\Documents\8990\T\DATA", climate_variable)   
out_raster = os.path.join(r"C:\Users\mmMary\Documents\8990\T\LAYERS\MN_Extent", climate_variable)
arcpy.env.workspace = in_raster

raster_list = arcpy.ListRasters()
for raster in raster_list:
#     print(raster)
    try:  
        # Projection system for MN
        spatial_reference_object = arcpy.SpatialReference(26915)
        
        # Project all US scale rasters
        arcpy.management.ProjectRaster(raster, out_raster, spatial_reference_object)
        print(raster + "in now in UTM 15N")
    except Exception as e:
        print(e)
        



# Clip projected U.S. raster to MN Rectangle Extent

# import arcpy, os

def extent_clip(climate_variable):
    arcpy.env.workspace = os.path.join(r"C:\Users\mmMary\Documents\8990\T\LAYERS\UTM", climate_variable)  
    clip_shp = r"C:\Users\mmMary\Documents\8990\Layers\MN_Boundary\State.shp"

    raster_list = arcpy.ListRasters()
    for raster in raster_list:
        out_raster = os.path.join(r"C:\Users\mmMary\Documents\8990\T\LAYERS\MN_Extent", climate_variable, raster) 
        arcpy.management.Clip(raster, "170463.204 4796993.2567 780967.2014 5491739.865", out_raster, clip_shp, "-9999", "NONE", "MAINTAIN_EXTENT")
        print(raster + " is clipped to MN rectangle")
        
extent_clip("tmin")


# Sources
# https://stackoverflow.com/questions/30043403/create-for-loop-to-process-multiple-rasters-in-a-file-using-arcpy-clip-managemen
# https://pro.arcgis.com/en/pro-app/latest/tool-reference/data-management/clip.htm

# Clip projected U.S. raster to MN Rectangle

import arcpy, os
mn_boundary = r"C:\Users\mmMary\Documents\8990\Layers\MN_Boundary\State.shp"
arcpy.env.workspace = r"C:\Users\mmMary\Documents\8990\T\LAYERS\UTM\tmin" 
# "C:\Users\mmMary\Documents\8990\T\Project_Rasters\ppt"

# in_raster = os.path.join(r"C:\Users\mmMary\Documents\8990\T\LAYERS\UTM", climate_variable)   
# out_raster = os.path.join(r"C:\Users\mmMary\Documents\8990\T\LAYERS\MN_Extent", climate_variable)   


raster_list = arcpy.ListRasters()
for raster in raster_list:
#     in_raster = os.path.join(r"C:\Users\mmMary\Documents\8990\T\LAYERS\UTM", climate_variable, raster)   
    out_raster = os.path.join(r"C:\Users\mmMary\Documents\8990\T\LAYERS\MN_Extent", climate_variable) 
#     mn_raster = os.path.join(r"C:\Users\mmMary\Documents\8990\T\LAYERS\MN_Extent\tmin", raster )
#     arcpy.management.Clip(raster, "170463.204 4796993.2567 780967.2014 5491739.865", mn_raster, "State_Buffer", "-9999", "NONE", "MAINTAIN_EXTENT")
print(raster)


# Sources
# https://stackoverflow.com/questions/30043403/create-for-loop-to-process-multiple-rasters-in-a-file-using-arcpy-clip-managemen
# https://pro.arcgis.com/en/pro-app/latest/tool-reference/data-management/clip.htm

# Clip projected U.S. raster to MN Rectangle

# arcpy.management.Clip(
#     in_raster, rectangle, out_raster, {in_template_dataset}, 
#     {nodata_value}, {clipping_geometry}, {maintain_clipping_extent})

dir_path = os.path.join(r"C:\Users\mmMary\Documents\8990\T\DATA")
os.chdir(dir_path)


# "C:\Users\mmMary\Documents\8990\T\Project_Rasters\ppt"

def extent_clip(climate_variable):
    import arcpy, os
    dir_path = os.path.join(r"C:\Users\mmMary\Documents\8990\T\LAYERS\UTM", climate_variable) 
    os.chdir(dir_path)
    
    # The .shp that determines clip extent. Note, this is BIGGER than the actual boundary
    # to give a large enough edge to smooth it out when clipping to the state outline (after the Contour tool is run)
    mn_boundary = r"C:\Users\mmMary\Documents\8990\Layers\MN_Boundary\State.shp"
    
    
# arcpy.env.workspace = r"C:\Users\mmMary\Documents\8990\T\LAYERS\UTM\tmin" 
#     print(in_path)

    for f in os.listdir():
        
        in_raster = os.path.join(r"C:\Users\mmMary\Documents\8990\T\LAYERS\UTM", climate_variable, f) 
        out_raster = os.path.join(r"C:\Users\mmMary\Documents\8990\T\LAYERS\MN_Extent", climate_variable, f)  
        
         
        arcpy.management.Clip(in_raster, "170463.204 4796993.2567 780967.2014 5491739.865", out_raster, mn_boundary, "-9999", "NONE", "MAINTAIN_EXTENT")
        print(climate_variable, "Extent clip is done")    

            
extent_clip("tmin")

   
# raster_list = arcpy.ListRasters()
# for raster in raster_list:
#     mn_raster = os.path.join(r"C:\Users\mmMary\Documents\8990\T\LAYERS\MN_Extent\tmin", raster )
#     arcpy.management.Clip(raster, "170463.204 4796993.2567 780967.2014 5491739.865", mn_raster, "State_Buffer", "-9999", "NONE", "MAINTAIN_EXTENT")


# Sources
# https://stackoverflow.com/questions/30043403/create-for-loop-to-process-multiple-rasters-in-a-file-using-arcpy-clip-managemen
# https://pro.arcgis.com/en/pro-app/latest/tool-reference/data-management/clip.htm

climate_variable = "tmin"
mn_boundary = r"C:\Users\mmMary\Documents\8990\Layers\MN_Boundary\State.shp"
in_path = os.path.join(r"C:\Users\mmMary\Documents\8990\T\LAYERS\UTM", climate_variable)   
out_path = os.path.join(r"C:\Users\mmMary\Documents\8990\T\LAYERS\MN_Extent", climate_variable)   
# arcpy.env.workspace = r"C:\Users\mmMary\Documents\8990\T\LAYERS\UTM\tmin" 
print(out_path)

directory = os.path.join(r"C:\Users\mmMary\Documents\8990\T\LAYERS\UTM", climate_variable) 
os.chdir(directory)
      
for file in os.listdir(directory):
    filename = os.fsdecode(file)
    if filename.endswith(".bil"):
        
        in_raster = os.path.join(r"C:\Users\mmMary\Documents\8990\T\LAYERS\UTM", climate_variable, f) 
        out_raster = os.path.join(r"C:\Users\mmMary\Documents\8990\T\LAYERS\MN_Extent", climate_variable, f)  
    print(in_raster)
        





# Clip reprojected U.S. raster to MN

import arcpy, os
mn_boundary = r"C:\Users\mmMary\Documents\8990\Layers\MN_Boundary\State.shp"
arcpy.env.workspace = r"C:\Users\mmMary\Documents\8990\T\LAYERS\UTM\tmin" 
# "C:\Users\mmMary\Documents\8990\T\Project_Rasters\ppt"

raster_list = arcpy.ListRasters()
for raster in raster_list:
    mn_raster = os.path.join(r"C:\Users\mmMary\Documents\8990\T\LAYERS\MN_Extent\tmin", raster )
    arcpy.management.Clip(raster, "189775.332 4816305.37 761655.0734 5472427.737", mn_raster, "State", "99999", "ClippingGeometry", "NO_MAINTAIN_EXTENT")

    
    


# Sources
# https://stackoverflow.com/questions/30043403/create-for-loop-to-process-multiple-rasters-in-a-file-using-arcpy-clip-managemen
# https://pro.arcgis.com/en/pro-app/latest/tool-reference/data-management/clip.htm



# Copy raw data files into a new folder in the temperary data directiory to store the shorter named files
# This preserves to raw data

# import os

# def name_reducer(climate_variable):
     
# SET FILE PATH TO TEMPORARY DATA FOLDER
dir_path = os.path.join(r"C:\Users\mmMary\Documents\8990\T\DATA")
os.chdir(dir_path)
    
for f in os.listdir():

    # Split off file extension from filename
    file_name, file_ext =os.path.splitext(f)

    # Split each name component into seperate parts
    prism, weather_type, yr, normal, resolution, month, extension = file_name.split('_')
    print(extension)

    # New name combines just the weather type,month, multiple file extensions where applicable & the last file type
#         new_name = '{}_{}_{}{}'.format(weather_type, month, extension, file_ext)

    # Rename all files to short names
#         os.rename(f, new_name)

#     print(weather_type, "renamed files are done")

# name_reducer("precip")
    
#     https://youtu.be/ve2pmm5JqmI

print(extension)




directory = os.fsencode(r"C:\Users\mmMary\Documents\8990\T\DATA\tmin")

for file in os.listdir(directory):
    filename = os.fsdecode(file)
    
    base_path = r"C:\Users\mmMary\Documents\8990\T\utm\tmin"
    out_raster = os.path.join(base_path, filename)
    
    if filename.endswith(".bil"):

        in_raster = filename
#         out_raster = r"C:\Users\mmMary\Documents\8990\T\Project_Rasters\ppt\PRISM_ppt_30yr_normal_4kmM3_annual_bil.bil"
        # wkt = 'PROJCS["NAD_1983_UTM_Zone_15N",GEOGCS["GCS_North_American_1983",DATUM["D_North_American_1983",SPHEROID["GRS_1980",6378137.0,298.257222101]],PRIMEM["Greenwich",0.0],UNIT["Degree",0.0174532925199433]],PROJECTION["Transverse_Mercator"],PARAMETER["False_Easting",500000.0],PARAMETER["False_Northing",0.0],PARAMETER["Central_Meridian",-93.0],PARAMETER["Scale_Factor",0.9996],PARAMETER["Latitude_Of_Origin",0.0],UNIT["Meter",1.0]]'
        spatial_reference_object = arcpy.SpatialReference(26915)
        out_spatial_reference_object = arcpy.SpatialReference(4269)
        arcpy.management.ProjectRaster(in_raster, out_raster, spatial_reference_object, None, None, None, None, out_spatial_reference_object, None)

#         print(spatial_reference_object)
# Sources:
# https://pro.arcgis.com/en/pro-app/latest/tool-reference/data-management/project-raster.htm
# https://pro.arcgis.com/en/pro-app/latest/arcpy/classes/spatialreference.htm
#     https://epsg.io/26915

directory = os.fsencode(r"C:\Users\mmMary\Documents\8990\T\DATA\tmin")

for file in os.listdir(directory):
    filename = os.fsdecode(file)
    
    base_path = r"C:\Users\mmMary\Documents\8990\T\utm\tmin"
    out_raster = os.path.join(base_path, filename)
    
    if filename.endswith(".bil"):

        in_raster = filename
#         out_raster = r"C:\Users\mmMary\Documents\8990\T\Project_Rasters\ppt\PRISM_ppt_30yr_normal_4kmM3_annual_bil.bil"
        # wkt = 'PROJCS["NAD_1983_UTM_Zone_15N",GEOGCS["GCS_North_American_1983",DATUM["D_North_American_1983",SPHEROID["GRS_1980",6378137.0,298.257222101]],PRIMEM["Greenwich",0.0],UNIT["Degree",0.0174532925199433]],PROJECTION["Transverse_Mercator"],PARAMETER["False_Easting",500000.0],PARAMETER["False_Northing",0.0],PARAMETER["Central_Meridian",-93.0],PARAMETER["Scale_Factor",0.9996],PARAMETER["Latitude_Of_Origin",0.0],UNIT["Meter",1.0]]'
        spatial_reference_object = arcpy.SpatialReference(26915)
        out_spatial_reference_object = arcpy.SpatialReference(4269)
        arcpy.management.ProjectRaster(in_raster, out_raster, spatial_reference_object, None, None, None, None, out_spatial_reference_object, None)

#         print(spatial_reference_object)
# Sources:
# https://pro.arcgis.com/en/pro-app/latest/tool-reference/data-management/project-raster.htm
# https://pro.arcgis.com/en/pro-app/latest/arcpy/classes/spatialreference.htm
#     https://epsg.io/26915

# The .prj file is not discoverable this way & throws undefined input projection error 
# That worked - now modify it
import os
import arcpy
# Set base path for input raw rasters
directory = os.fsencode(r"C:\Users\mmMary\Documents\8990\T\DATA\tmin")

for file in os.listdir(directory):
    filename = os.fsdecode(file)
    if filename.endswith(".bil"):
        bil_file = filename
       
    if filename.endswith(".prj"):
        prj = filename
#         print(prj)
        
# Get file names for all .bil files
#         print(filename)

# Set file path for projected output rasters                            
    base_path = r"C:\Users\mmMary\Documents\8990\T\utm\tmin"
    out_raster = os.path.join(base_path, filename)
#        #         print(out_raster)
# # #     print(filename)
#     arcpy.ProjectRaster_management(bil_file, r"C:\Users\mmMary\Documents\8990\T\LAYERS\UTM\tmin_02", "NAD_1983_UTM_Zone_15N.prj", "BILINEAR",\
#                                "4874.84258823013 4874.84258823013", "#", "#",\
#                                "NAD_1983.prj")
        
        
 # Projection system for MN
    spatial_reference_object = arcpy.SpatialReference(26915)
#         in_coor_system = arcpy.SpatialReference(4269)
        
        
#         project_to_crs = 'PROJCS["NAD_1983_UTM_Zone_15N",GEOGCS["GCS_North_American_1983",DATUM["D_North_American_1983",SPHEROID["GRS_1980",6378137.0,298.257222101]],PRIMEM["Greenwich",0.0],UNIT["Degree",0.0174532925199433]],PROJECTION["Transverse_Mercator"],PARAMETER["False_Easting",500000.0],PARAMETER["False_Northing",0.0],PARAMETER["Central_Meridian",-93.0],PARAMETER["Scale_Factor",0.9996],PARAMETER["Latitude_Of_Origin",0.0],UNIT["Meter",1.0]]' 
#         original_crs = 'GEOGCS["GCS_North_American_1983",DATUM["D_North_American_1983",SPHEROID["GRS_1980",6378137.0,298.257222101]],PRIMEM["Greenwich",0.0],UNIT["Degree",0.0174532925199433]]'
        
# Project all US scale rasters
    arcpy.management.ProjectRaster(filename, out_raster, spatial_reference_object, "NEAREST", "4874.84258823013 4874.84258823013", None, None, "NAD_1983.prj", "NO_VERTICAL")

#     arcpy.management.ProjectRaster(filename, out_raster, 'PROJCS["NAD_1983_UTM_Zone_15N",GEOGCS["GCS_North_American_1983",DATUM["D_North_American_1983",SPHEROID["GRS_1980",6378137.0,298.257222101]],PRIMEM["Greenwich",0.0],UNIT["Degree",0.0174532925199433]],PROJECTION["Transverse_Mercator"],PARAMETER["False_Easting",500000.0],PARAMETER["False_Northing",0.0],PARAMETER["Central_Meridian",-93.0],PARAMETER["Scale_Factor",0.9996],PARAMETER["Latitude_Of_Origin",0.0],UNIT["Meter",1.0]]', "NEAREST", "4874.84258823013 4874.84258823013", None, None, 'GEOGCS["GCS_North_American_1983",DATUM["D_North_American_1983",SPHEROID["GRS_1980",6378137.0,298.257222101]],PRIMEM["Greenwich",0.0],UNIT["Degree",0.0174532925199433]]', "NO_VERTICAL")
    
#         arcpy.management.ProjectRaster(filename, out_raster, project_to_crs, "NEAREST", "4874.84258823013 4874.84258823013", None, None, original_crs, "NO_VERTICAL")
#         arcpy.management.ProjectRaster(
#             filename, out_raster, 'PROJCS["NAD_1983_UTM_Zone_15N",GEOGCS["GCS_North_American_1983",DATUM["D_North_American_1983",SPHEROID["GRS_1980",6378137.0,298.257222101]],PRIMEM["Greenwich",0.0],UNIT["Degree",0.0174532925199433]],PROJECTION["Transverse_Mercator"],PARAMETER["False_Easting",500000.0],PARAMETER["False_Northing",0.0],PARAMETER["Central_Meridian",-93.0],PARAMETER["Scale_Factor",0.9996],PARAMETER["Latitude_Of_Origin",0.0],UNIT["Meter",1.0]]', "NEAREST", "4874.84258823013 4874.84258823013", None, None, 'GEOGCS["GCS_North_American_1983",DATUM["D_North_American_1983",SPHEROID["GRS_1980",6378137.0,298.257222101]],PRIMEM["Greenwich",0.0],UNIT["Degree",0.0174532925199433]]', "NO_VERTICAL")

# r"C:\Users\mmMary\Documents\8990\T\utm\tmin\tmin_01_bil"


#         arcpy.management.ProjectRaster(filename, out_raster, spatial_reference_object, "#," "#," "#," "#," in_coor_system, "#")
#     print(filename + "is now in UTM15 CRS")





# Project raw .bil U.S. files into MN CRS ESPG 26915

# This works when running ind layer

# Create project command using spatial reference object


import os
import arcpy
# Set base path for input raw rasters
directory = os.fsencode(r"C:\Users\mmMary\Documents\8990\T\DATA\tmin")

for file in os.listdir(directory):
    filename = os.fsdecode(file)
    if filename.endswith(".bil"):

in_raster = r"C:\Users\mmMary\Documents\8990\T\DATA\tmin\tmin_04_bil.bil"
out_raster = r"C:\Users\mmMary\Documents\8990\T\LAYERS\UTM\tmin_04"
# wkt = 'PROJCS["NAD_1983_UTM_Zone_15N",GEOGCS["GCS_North_American_1983",DATUM["D_North_American_1983",SPHEROID["GRS_1980",6378137.0,298.257222101]],PRIMEM["Greenwich",0.0],UNIT["Degree",0.0174532925199433]],PROJECTION["Transverse_Mercator"],PARAMETER["False_Easting",500000.0],PARAMETER["False_Northing",0.0],PARAMETER["Central_Meridian",-93.0],PARAMETER["Scale_Factor",0.9996],PARAMETER["Latitude_Of_Origin",0.0],UNIT["Meter",1.0]]'
spatial_reference_object = arcpy.SpatialReference(26915)
arcpy.management.ProjectRaster(in_raster, out_raster, spatial_reference_object)

# Sources:
# https://pro.arcgis.com/en/pro-app/latest/tool-reference/data-management/project-raster.htm
# https://pro.arcgis.com/en/pro-app/latest/arcpy/classes/spatialreference.htm
#     https://epsg.io/26915

# Project raw .bil U.S. files into MN CRS ESPG 26915

# This works when running ind layer

# Create project command using spatial reference object

in_raster = r"C:\Users\mmMary\Documents\8990\T\LAYERS\UTM\tmean\tmin_02_bil.bil"
out_raster = r"C:\Users\mmMary\Documents\8990\T\LAYERS\UTM\tmin_02"
# wkt = 'PROJCS["NAD_1983_UTM_Zone_15N",GEOGCS["GCS_North_American_1983",DATUM["D_North_American_1983",SPHEROID["GRS_1980",6378137.0,298.257222101]],PRIMEM["Greenwich",0.0],UNIT["Degree",0.0174532925199433]],PROJECTION["Transverse_Mercator"],PARAMETER["False_Easting",500000.0],PARAMETER["False_Northing",0.0],PARAMETER["Central_Meridian",-93.0],PARAMETER["Scale_Factor",0.9996],PARAMETER["Latitude_Of_Origin",0.0],UNIT["Meter",1.0]]'
spatial_reference_object = arcpy.SpatialReference(26915)

arcpy.management.ProjectRaster(in_raster, out_raster, spatial_reference_object)

# Sources:
# https://pro.arcgis.com/en/pro-app/latest/tool-reference/data-management/project-raster.htm
# https://pro.arcgis.com/en/pro-app/latest/arcpy/classes/spatialreference.htm
#     https://epsg.io/26915

arcpy.management.ProjectRaster(r"C:\Users\mmMary\Documents\8990\T\DATA\tmin\tmin_08_bil.bil", r"C:\Users\mmMary\Documents\8990\T\utm\tmin\tmin_08_bil", 'PROJCS["NAD_1983_UTM_Zone_15N",GEOGCS["GCS_North_American_1983",DATUM["D_North_American_1983",SPHEROID["GRS_1980",6378137.0,298.257222101]],PRIMEM["Greenwich",0.0],UNIT["Degree",0.0174532925199433]],PROJECTION["Transverse_Mercator"],PARAMETER["False_Easting",500000.0],PARAMETER["False_Northing",0.0],PARAMETER["Central_Meridian",-93.0],PARAMETER["Scale_Factor",0.9996],PARAMETER["Latitude_Of_Origin",0.0],UNIT["Meter",1.0]]', "NEAREST", "4874.84258823013 4874.84258823013", None, None, 'GEOGCS["GCS_North_American_1983",DATUM["D_North_American_1983",SPHEROID["GRS_1980",6378137.0,298.257222101]],PRIMEM["Greenwich",0.0],UNIT["Degree",0.0174532925199433]]', "NO_VERTICAL")

arcpy.management.ProjectRaster(
    in_raster, out_raster, out_coor_system, {resampling_type},  
    {cell_size}, {geographic_transform}, {Registration_Point}, 
    {in_coor_system}, {vertical}
)


arcpy.management.ProjectRaster(
    r"C:\Users\mmMary\Documents\8990\DATA\Precipitation\PRISM_ppt_30yr_normal_4kmM3_01_bil.bil", 
    r"C:\Users\mmMary\Documents\8990\T\Project_Rasters\ppt\PRISM_ppt_30yr_normal_4kmM3_01_bil.bil", 
    'PROJCS["NAD_1983_UTM_Zone_15N",GEOGCS["GCS_North_American_1983",DATUM["D_North_American_1983",SPHEROID["GRS_1980",6378137.0,298.257222101]],
    PRIMEM["Greenwich",0.0],UNIT["Degree",0.0174532925199433]],
    PROJECTION["Transverse_Mercator"],PARAMETER["False_Easting",500000.0],PARAMETER["False_Northing",0.0],PARAMETER["Central_Meridian",-93.0],PARAMETER["Scale_Factor",0.9996],PARAMETER["Latitude_Of_Origin",0.0],UNIT["Meter",1.0]]', "NEAREST", "4874.84258823013 4874.84258823013", None, None, 'GEOGCS["GCS_North_American_1983",DATUM["D_North_American_1983",SPHEROID["GRS_1980",6378137.0,298.257222101]],PRIMEM["Greenwich",0.0],UNIT["Degree",0.0174532925199433]]', 
    "NO_VERTICAL")

# This works when I project one file at a time but doesn't when looping thru folder (see below)

import os
import arcpy
# Set base path for input raw rasters
directory = os.fsencode(r"C:\Users\mmMary\Documents\8990\T\DATA\tmin")

for file in os.listdir(directory):
    filename = os.fsdecode(file)
    if filename.endswith(".bil"):
        
# Get file names for all .bil files
#         print(filename)
        # Set file path for projected output rasters                    
        base_path = r"C:\Users\mmMary\Documents\8990\T\LAYERS\UTM\tmin"
        out_raster = os.path.join(base_path, filename)
       #         print(out_raster)
        
        
 # Projection system for MN
        spatial_reference_object = arcpy.SpatialReference(26915)
        in_coor_system = arcpy.SpatialReference(4269)
        
# Project all US scale rasters
        arcpy.management.ProjectRaster(filename, out_raster, spatial_reference_object, "#," "#," "#," "#," in_coor_system, "#")
        print(output_file + "is now in UTM15 CRS")

# Try with esris script 
# That worked - now modify it
# import os
# import arcpy
# # Set base path for input raw rasters
# directory = os.fsencode(r"C:\Users\mmMary\Documents\8990\T\DATA\tmin")

# for file in os.listdir(directory):
#     filename = os.fsdecode(file)
#     if filename.endswith(".bil"):
        
# Get file names for all .bil files
#         print(filename)

# Set file path for projected output rasters   
            r"C:\Users\mmMary\Documents\8990\T\DATA\tmin\tmin_04_bil.bil"
base_path = r"C:\Users\mmMary\Documents\8990\T\LAYERS\UTM\tmin"
out_raster = os.path.join(base_path, filename)
       #         print(out_raster)
        
        
 # Projection system for MN
spatial_reference_object = arcpy.SpatialReference(26915)
in_coor_system = arcpy.SpatialReference(4269)
        
        
#         project_to_crs = 'PROJCS["NAD_1983_UTM_Zone_15N",GEOGCS["GCS_North_American_1983",DATUM["D_North_American_1983",SPHEROID["GRS_1980",6378137.0,298.257222101]],PRIMEM["Greenwich",0.0],UNIT["Degree",0.0174532925199433]],PROJECTION["Transverse_Mercator"],PARAMETER["False_Easting",500000.0],PARAMETER["False_Northing",0.0],PARAMETER["Central_Meridian",-93.0],PARAMETER["Scale_Factor",0.9996],PARAMETER["Latitude_Of_Origin",0.0],UNIT["Meter",1.0]]' 
#         original_crs = 'GEOGCS["GCS_North_American_1983",DATUM["D_North_American_1983",SPHEROID["GRS_1980",6378137.0,298.257222101]],PRIMEM["Greenwich",0.0],UNIT["Degree",0.0174532925199433]]'
        
# Project all US scale rasters
arcpy.management.ProjectRaster(r"C:\Users\mmMary\Documents\8990\T\DATA\tmin\tmin_04_bil.bil", out_raster, spatial_reference_object, "NEAREST", "4874.84258823013 4874.84258823013", None, None, in_coor_system, "NO_VERTICAL")


#         arcpy.management.ProjectRaster(filename, out_raster, project_to_crs, "NEAREST", "4874.84258823013 4874.84258823013", None, None, original_crs, "NO_VERTICAL")
#         arcpy.management.ProjectRaster(filename, out_raster, 
# 'PROJCS["NAD_1983_UTM_Zone_15N",GEOGCS["GCS_North_American_1983",DATUM["D_North_American_1983",SPHEROID["GRS_1980",6378137.0,298.257222101]],PRIMEM["Greenwich",0.0],UNIT["Degree",0.0174532925199433]],PROJECTION["Transverse_Mercator"],PARAMETER["False_Easting",500000.0],PARAMETER["False_Northing",0.0],PARAMETER["Central_Meridian",-93.0],PARAMETER["Scale_Factor",0.9996],PARAMETER["Latitude_Of_Origin",0.0],UNIT["Meter",1.0]]', 
# "NEAREST", "4874.84258823013 4874.84258823013", None, None, 'GEOGCS["GCS_North_American_1983",DATUM["D_North_American_1983",SPHEROID["GRS_1980",6378137.0,298.257222101]],PRIMEM["Greenwich",0.0],UNIT["Degree",0.0174532925199433]]', "NO_VERTICAL")

# r"C:\Users\mmMary\Documents\8990\T\utm\tmin\tmin_01_bil"


#         arcpy.management.ProjectRaster(filename, out_raster, spatial_reference_object, "#," "#," "#," "#," in_coor_system, "#")
print(filename + "is now in UTM15 CRS")









output_raster = arcpy.ia.RasterCalculator(' "march_clip" / 25.4'); output_raster.save(r"C:\Users\mmMary\Documents\8990\T\march_inch")

output_raster = arcpy.sa.RasterCalculator(' "big_clip"  / 25.4'); output_raster.save(r"c:\users\mmmary\Documents\8990\map\weather_map\weather_map.gdb\big_cl_raste")

#this worked 
output_raster = arcpy.sa.RasterCalculator(
    ' "rect_clip" / 25.4'); 
    output_raster.save(
    r"C:\Users\mmMary\Documents\8990\Layers\Intermediate\rect_clip_in")



import numpy
from osgeo import gdal
import rasterio

driver = gdal.GetDriverByName('GTiff')
file = gdal.Open(r"C:\Users\mmMary\Documents\8990\Layers\Intermediate\rect_clip_in.tif")
# band = file.GetRasterBand(1)
lista = band.ReadAsArray()

pip install rasterio

import gdal

ds = rasterio.open(in_img)
data = ds.read()

lista 

import os

import matplotlib.pyplot as plt
from matplotlib.colors import ListedColormap, BoundaryNorm
import numpy as np
import xarray as xr
import rioxarray as rxr
import earthpy as et
import earthpy.plot as ep

arcpy.management.Clip("Feb.bil", "-97.2698643033953 43.4353843588883 -89.3971195198901 49.4045362223117", r"C:\Users\mmMary\Documents\8990\T\feb_clip", "State", "-9999", "NONE", "MAINTAIN_EXTENT")

# Clip the US .bil raster to the MN extent

path = "C:/Users/mmMary/Documents/8990/T/"
month = "March"
# clip_input = path + month + ".bil"
clip_output = path + month + "_clip"
extent = "C:/Users/mmMary/Documents/8990/Layers/MN_Boundary/State.shp"

clip_input = r"C:\Users\mmMary\Documents\8990\PPT\March.bil"


# print(clip_output)
print(clip_input)
arcpy.management.Clip(clip_input, "-97.2698643033953 43.4353843588883 -89.3971195198901 49.4045362223117", 
                      clip_output, extent, "-9999", "NONE", "MAINTAIN_EXTENT")

# This works! Clip PRISM US raster to MN rectangle extent

path = "C:/Users/mmMary/Documents/8990/"
month = "March"
clip_input = path + "PPT/" + month + ".bil"
clip_output = path + "T/" + month + "_clip"
extent = "C:/Users/mmMary/Documents/8990/Layers/MN_Boundary/State.shp"
print("the clipped raster is located in the temporary folder as: " + clip_output)

# arcpy.management.Clip(clip_input, "-97.2698643033953 43.4353843588883 -89.3971195198901 49.4045362223117", 
#                       clip_output, extent, "-9999", "NONE", "MAINTAIN_EXTENT")

# Convert milimeters to inches with raster calculator
inch_raster = path + "PPT/temp/inches/" + month


# output_raster = arcpy.sa.RasterCalculator(' "clip_output" / 25.4'); output_raster.save(inch_raster)

print("inches raster is located in: " + inch_raster )

output_raster = arcpy.ia.RasterCalculator(march_clip / 25.4, r"C:\Users\mmMary\Documents\8990\T\march_inch")

from arcpy.sa import *
output_raster = arcpy.sa.RasterCalculator(' "Jan_Precip" / 25.4 '); output_raster.save(r"c:\Users\mmMary\documents\8990\T\Jan_ppt_inches")

r = RasterCalculator(Jan_Precip / 25.4 ), 





# Import packages & set workspace
import arcpy
import requests as r
from zipfile import ZipFile

arcpy.env.workspace = r'C:\Users\mmMary\Documents\8990\Map\Weather_Map.aprx'

# Generate list for pulling all monthly & annual variables for normals
# Number 14 is used to pull the annual normals 

MM = ["%.2d" % i for i in range(13)]
MM.pop(0)
MM.append('14')

print(MM)

# https://stackoverflow.com/questions/12030074/generate-list-of-numbers-in-specific-format

# Loop thru to download all monthly normals layers


# Sample url: 'http://services.nacse.org/prism/data/public/<resolution>/<element>/<date>' 
base = 'http://services.nacse.org/prism/data/public/normals/'
res = '4km'       # This defines the data resolution 
element = '/ppt/'  # Precipitation
month = '02'
url = (base + res + element + month)
print(url)


for 

# r.get(base + res + element)   # API call for the data 
# r.get(base + element + date)   # API call for the data 

# this should work 
# Make this get each month 30yr normals for precipitation (ppt)
# month = 14 provides annual normal grid
# Sample url: 'http://services.nacse.org/prism/data/public/<resolution>/<element>/<date>' 
base = 'http://services.nacse.org/prism/data/public/normals/'
res = '4km'       # This defines the data resolution 
element = '/ppt/'  # Precipitation
month = '02'
url = (base + res + element + month)
print(url)


# r.get(base + res + element)   # API call for the data 
# r.get(base + element + date)   # API call for the data 

# Sample url: 'http://services.nacse.org/prism/data/public/4km/<element>/<date>' 
base = 'http://services.nacse.org/prism/data/public/normals/'
res = '4km'       # This defines the data resolution 
element = '/ppt'  # Precipitation
date = ''
# date = '_all'  # PRISM variable for all normals

# r.get(base + res + element)   # API call for the data 
# r.get(base + element + date)   # API call for the data 



# This works when I project one file at a time but doesn't when looping thru folder

import os
# Set base path for raw rasters
directory = os.fsencode(r"C:\Users\mmMary\Documents\8990\DATA\Precipitation")

for file in os.listdir(directory):
    filename = os.fsdecode(file)
    if filename.endswith(".bil"):
        
# Get file names for all .bil files
#         print(filename)
                            
        base_path = r"C:\Users\mmMary\Documents\8990\T\Project_Rasters\ppt"
        out_raster = os.path.join(base_path, filename)
       
 # Projection system for MN
        spatial_reference_object = arcpy.SpatialReference(26915)
        
# Project all US scale rasters
        arcpy.management.ProjectRaster(filename, out_raster, spatial_reference_object)
        print(output_file)










 # unzip file
with ZipFile('PRISM_ppt_30yr_normal_4kmM2_annual_bil.zip', 'r') as zipObj:
       # Extract all contents into PRISM_data folder
    zipObj.extractall('PRISM_data')

# Project .bil files into map projection - USA_Contiguous_Albers_Equal_Area_Conic
arcpy.Tmp.BatchProjectRaster(r"C:\Users\mmMary\Documents\GIS_Classes\GIS_5572\Labs\Lab2\PRISM_data\All_Normals_ppt\PRISM_ppt_30yr_normal_4kmM2_01_bil.bil;C:\Users\mmMary\Documents\GIS_Classes\GIS_5572\Labs\Lab2\PRISM_data\All_Normals_ppt\PRISM_ppt_30yr_normal_4kmM2_02_bil.bil;C:\Users\mmMary\Documents\GIS_Classes\GIS_5572\Labs\Lab2\PRISM_data\All_Normals_ppt\PRISM_ppt_30yr_normal_4kmM2_03_bil.bil;C:\Users\mmMary\Documents\GIS_Classes\GIS_5572\Labs\Lab2\PRISM_data\All_Normals_ppt\PRISM_ppt_30yr_normal_4kmM2_04_bil.bil;C:\Users\mmMary\Documents\GIS_Classes\GIS_5572\Labs\Lab2\PRISM_data\All_Normals_ppt\PRISM_ppt_30yr_normal_4kmM2_05_bil.bil;C:\Users\mmMary\Documents\GIS_Classes\GIS_5572\Labs\Lab2\PRISM_data\All_Normals_ppt\PRISM_ppt_30yr_normal_4kmM2_06_bil.bil;C:\Users\mmMary\Documents\GIS_Classes\GIS_5572\Labs\Lab2\PRISM_data\All_Normals_ppt\PRISM_ppt_30yr_normal_4kmM2_07_bil.bil;C:\Users\mmMary\Documents\GIS_Classes\GIS_5572\Labs\Lab2\PRISM_data\All_Normals_ppt\PRISM_ppt_30yr_normal_4kmM2_08_bil.bil;C:\Users\mmMary\Documents\GIS_Classes\GIS_5572\Labs\Lab2\PRISM_data\All_Normals_ppt\PRISM_ppt_30yr_normal_4kmM2_09_bil.bil;C:\Users\mmMary\Documents\GIS_Classes\GIS_5572\Labs\Lab2\PRISM_data\All_Normals_ppt\PRISM_ppt_30yr_normal_4kmM2_10_bil.bil;C:\Users\mmMary\Documents\GIS_Classes\GIS_5572\Labs\Lab2\PRISM_data\All_Normals_ppt\PRISM_ppt_30yr_normal_4kmM2_11_bil.bil;C:\Users\mmMary\Documents\GIS_Classes\GIS_5572\Labs\Lab2\PRISM_data\All_Normals_ppt\PRISM_ppt_30yr_normal_4kmM2_12_bil.bil", r"C:\Users\mmMary\Documents\GIS_Classes\GIS_5572\Labs\Lab2\Lab2_take2\Lab2_take2.gdb\ppt_all_albers%Name%", "PROJCS['USA_Contiguous_Albers_Equal_Area_Conic',GEOGCS['GCS_North_American_1983',DATUM['D_North_American_1983',SPHEROID['GRS_1980',6378137.0,298.257222101]],PRIMEM['Greenwich',0.0],UNIT['Degree',0.0174532925199433]],PROJECTION['Albers'],PARAMETER['False_Easting',0.0],PARAMETER['False_Northing',0.0],PARAMETER['Central_Meridian',-96.0],PARAMETER['Standard_Parallel_1',29.5],PARAMETER['Standard_Parallel_2',45.5],PARAMETER['Latitude_Of_Origin',37.5],UNIT['Meter',1.0]]", "NEAREST", "4676.76577530616 4676.76577530615", None, None, "GEOGCS['GCS_North_American_1983',DATUM['D_North_American_1983',SPHEROID['GRS_1980',6378137.0,298.257222101]],PRIMEM['Greenwich',0.0],UNIT['Degree',0.0174532925199433]]", "NO_VERTICAL")



# Mask by Minnesota boundary
arcpy.management.ProjectRaster("PRISM_tmean_30yr_normal_4kmM3_annual_bil.bil", r"C:\Users\mmMary\Documents\8990\Map\Weather_Map\Weather_Map.gdb\tmean_30yr_UTM15", 'PROJCS["NAD_1983_UTM_Zone_15N",GEOGCS["GCS_North_American_1983",DATUM["D_North_American_1983",SPHEROID["GRS_1980",6378137.0,298.257222101]],PRIMEM["Greenwich",0.0],UNIT["Degree",0.0174532925199433]],PROJECTION["Transverse_Mercator"],PARAMETER["False_Easting",500000.0],PARAMETER["False_Northing",0.0],PARAMETER["Central_Meridian",-93.0],PARAMETER["Scale_Factor",0.9996],PARAMETER["Latitude_Of_Origin",0.0],UNIT["Meter",1.0]]', "NEAREST", "4874.84258823013 4874.84258823013", None, None, 'GEOGCS["GCS_North_American_1983",DATUM["D_North_American_1983",SPHEROID["GRS_1980",6378137.0,298.257222101]],PRIMEM["Greenwich",0.0],UNIT["Degree",0.0174532925199433]]', "NO_VERTICAL")

# Symbolize

arcpy.management.ProjectRaster("PRISM_tmean_30yr_normal_4kmM3_annual_bil.bil", r"C:\Users\mmMary\Documents\8990\Map\Weather_Map\Weather_Map.gdb\tmean_30yr_UTM15", 'PROJCS["NAD_1983_UTM_Zone_15N",GEOGCS["GCS_North_American_1983",DATUM["D_North_American_1983",SPHEROID["GRS_1980",6378137.0,298.257222101]],PRIMEM["Greenwich",0.0],UNIT["Degree",0.0174532925199433]],PROJECTION["Transverse_Mercator"],PARAMETER["False_Easting",500000.0],PARAMETER["False_Northing",0.0],PARAMETER["Central_Meridian",-93.0],PARAMETER["Scale_Factor",0.9996],PARAMETER["Latitude_Of_Origin",0.0],UNIT["Meter",1.0]]', "NEAREST", "4874.84258823013 4874.84258823013", None, None, 'GEOGCS["GCS_North_American_1983",DATUM["D_North_American_1983",SPHEROID["GRS_1980",6378137.0,298.257222101]],PRIMEM["Greenwich",0.0],UNIT["Degree",0.0174532925199433]]', "NO_VERTICAL")

output_raster = arcpy.sa.RasterCalculator
(' "Jan_Precip" / 25.4 '); 
output_raster.save
(r"c:\Users\mmMary\documents\8990\Map\weather_map\weather_map.gdb\Jan_ppt_inches")

# Clip full us to MN with maintain clip extent

#us_bil = 
output_path = 'r"C:\Users\mmMary\Documents\8990\Layers\MN_Precip\'
# extent = "03" + "_ppt"
extent = "03" + "_ppt"

# arcpy.management.Clip(us_bil, "-97.2698643033953 43.4353843588883 -89.3971195198901 49.4045362223117", r"C:\Users\mmMary\Documents\8990\Layers\MN_Precip\Feb_ppt", "State", "-9999", "ClippingGeometry", "MAINTAIN_EXTENT")

print(extent)









def createList(r1, r2):
    return [item for item in range(r1, r2+1)]
     
# Driver Code
r1, r2 = -1, 1
print(createList(r1, r2))

# https://www.geeksforgeeks.org/python-create-list-of-numbers-with-given-range/

# https://www.geeksforgeeks.org/python-create-list-of-numbers-with-given-range/
def month_list(m1, m2):
    return [item for item in range(m1, m2+1)]
# print(month_list(1, 12))
months = month_list(1, 12)
print(months)

# format into 01, 02
def month_list(m1, m2): 
    return ["%.2d % item for item in range (m1, m2+1)]
    
    
#     return [item for item in range(m1, m2+1)]
# print(month_list(1, 12))


months = month_list(1, 12)
print(months)

# https://www.geeksforgeeks.org/python-create-list-of-numbers-with-given-range/

def month_list():
    l = ["%.2d" % i for i in range(13)]
    l.pop(0)
    return l

print(l)

# https://stackoverflow.com/questions/12030074/generate-list-of-numbers-in-specific-format

out_raster = arcpy.sa.Reclassify("feb_ppt_inches", 
    "VALUE", "0 0.500000 1;0.500000 0.750000 2;
    0.750000 1 3;1 1.250000 4;1.250000 1.500000 5;
    1.500000 1.750000 6;1.750000 2 7;2 2.250000 8;2.250000 2.500000 9;2.500000 2.750000 10;2.750000 3 11;3 3.250000 12;3.250000 3.500000 13;3.500000 3.750000 14;3.750000 4.250000 15;4.250000 4.500000 16;4.500000 4.750000 17;4.750000 5 18;5 5.250000 19;5.250000 10 20", "NODATA"); 
    out_raster.save(
    r"C:\Users\mmMary\Documents\8990\Map\Weather_Map\Weather_Map.gdb\Reclass_feb_3")

out_raster = arcpy.sa.Reclassify("feb_ppt_inches", "VALUE", "0.409917 0.500000 1;0.500000 0.750000 2;0.750000 1 3;1 1.250000 4;1.250000 1.500000 5;1.500000 1.750000 6;1.750000 2 7;2 2.250000 8;2.250000 2.500000 9;2.500000 2.750000 10;2.750000 3 11;3 3.250000 12;3.250000 3.500000 13;3.500000 3.750000 14;3.750000 4.250000 15;4.250000 4.500000 16;4.500000 4.750000 17;4.750000 5 18;5 5.250000 19", "NODATA"); out_raster.save(r"C:\Users\mmMary\Documents\8990\Map\Weather_Map\Weather_Map.gdb\Reclass_feb_2")



# Create Mosaic Dataset
arcpy.management.CreateMosaicDataset(r"C:\Users\mmMary\Documents\GIS_Classes\GIS_5572\Labs\Lab2\Lab2_take2\Lab2_take2.gdb", "ppt_30yr_all", "PROJCS['USA_Contiguous_Albers_Equal_Area_Conic',GEOGCS['GCS_North_American_1983',DATUM['D_North_American_1983',SPHEROID['GRS_1980',6378137.0,298.257222101]],PRIMEM['Greenwich',0.0],UNIT['Degree',0.0174532925199433]],PROJECTION['Albers'],PARAMETER['False_Easting',0.0],PARAMETER['False_Northing',0.0],PARAMETER['Central_Meridian',-96.0],PARAMETER['Standard_Parallel_1',29.5],PARAMETER['Standard_Parallel_2',45.5],PARAMETER['Latitude_Of_Origin',37.5],UNIT['Meter',1.0]]", None, '', "NONE", None)

# Add Rasters to Mosaic Dataset
arcpy.management.AddRastersToMosaicDataset("ppt_30yr_all", "Raster Dataset", r"C:\Users\mmMary\Documents\GIS_Classes\GIS_5572\Labs\Lab2\Lab2_take2\Lab2_take2.gdb\ppt_all_albersPRISM_ppt_30yr_normal_4kmM2_01_bil_bil;C:\Users\mmMary\Documents\GIS_Classes\GIS_5572\Labs\Lab2\Lab2_take2\Lab2_take2.gdb\ppt_all_albersPRISM_ppt_30yr_normal_4kmM2_02_bil_bil;C:\Users\mmMary\Documents\GIS_Classes\GIS_5572\Labs\Lab2\Lab2_take2\Lab2_take2.gdb\ppt_all_albersPRISM_ppt_30yr_normal_4kmM2_03_bil_bil;C:\Users\mmMary\Documents\GIS_Classes\GIS_5572\Labs\Lab2\Lab2_take2\Lab2_take2.gdb\ppt_all_albersPRISM_ppt_30yr_normal_4kmM2_04_bil_bil;C:\Users\mmMary\Documents\GIS_Classes\GIS_5572\Labs\Lab2\Lab2_take2\Lab2_take2.gdb\ppt_all_albersPRISM_ppt_30yr_normal_4kmM2_05_bil_bil;C:\Users\mmMary\Documents\GIS_Classes\GIS_5572\Labs\Lab2\Lab2_take2\Lab2_take2.gdb\ppt_all_albersPRISM_ppt_30yr_normal_4kmM2_06_bil_bil;C:\Users\mmMary\Documents\GIS_Classes\GIS_5572\Labs\Lab2\Lab2_take2\Lab2_take2.gdb\ppt_all_albersPRISM_ppt_30yr_normal_4kmM2_07_bil_bil;C:\Users\mmMary\Documents\GIS_Classes\GIS_5572\Labs\Lab2\Lab2_take2\Lab2_take2.gdb\ppt_all_albersPRISM_ppt_30yr_normal_4kmM2_08_bil_bil;C:\Users\mmMary\Documents\GIS_Classes\GIS_5572\Labs\Lab2\Lab2_take2\Lab2_take2.gdb\ppt_all_albersPRISM_ppt_30yr_normal_4kmM2_09_bil_bil;C:\Users\mmMary\Documents\GIS_Classes\GIS_5572\Labs\Lab2\Lab2_take2\Lab2_take2.gdb\ppt_all_albersPRISM_ppt_30yr_normal_4kmM2_10_bil_bil;C:\Users\mmMary\Documents\GIS_Classes\GIS_5572\Labs\Lab2\Lab2_take2\Lab2_take2.gdb\ppt_all_albersPRISM_ppt_30yr_normal_4kmM2_11_bil_bil;C:\Users\mmMary\Documents\GIS_Classes\GIS_5572\Labs\Lab2\Lab2_take2\Lab2_take2.gdb\ppt_all_albersPRISM_ppt_30yr_normal_4kmM2_12_bil_bil", "UPDATE_CELL_SIZES", "UPDATE_BOUNDARY", "NO_OVERVIEWS", None, 0, 1500, None, '', "SUBFOLDERS", "ALLOW_DUPLICATES", "NO_PYRAMIDS", "NO_STATISTICS", "NO_THUMBNAILS", '', "NO_FORCE_SPATIAL_REFERENCE", "NO_STATISTICS", None, "NO_PIXEL_CACHE", r"C:\Users\mmMary\AppData\Local\ESRI\rasterproxies\ppt_30yr")

# Calculate Fields for the Variable of interest & TimeStamp
arcpy.management.CalculateField(r"ppt_30yr_all\Footprint", "Variable", "'ppt'", "PYTHON3", '', "TEXT")
arcpy.management.CalculateField(r"ppt_30yr_all\Footprint", "TimeStamp", """DateAdd(Date(2010,0,1), $feature.OBJECTID-1, 'month')
""", "ARCADE", '', "TEXT")

# Build Multidimensional Info 
arcpy.md.BuildMultidimensionalInfo("ppt_30yr_all", "Variable", "TimeStamp # #", "Variable # #")

# Display layer properties & disable time  ??????

import arcpy, datetime
lyr = arcpy.mapping.Layer(r'C:\Project\Data\Time\TemperatureWithTime.lyr')
if lyr.supports("TIME"):
    lyrTime = lyr.time
else:
    print "No time available on the layer"

# Make Multidimensional Raster Layer
arcpy.md.MakeMultidimensionalRasterLayer("ppt_30yr_all", "ppt_30yr_MultiD_3", "ppt", "ALL", None, None, '', '', '', None, '', "-2950369.1484 -1493460.28786507 3000585.29697136 1716251.6967", "DIMENSIONS")

# Create Space Time Cube from Multidimensional Raster Layer
arcpy.stpm.CreateSpaceTimeCubeMDRasterLayer("ppt_30yr_MultiD_3", r"C:\Users\mmMary\Documents\GIS_Classes\GIS_5572\Labs\Lab2\Lab2_take2\ppt_30yr_SPT_3.nc", "ZEROS")

# Visualize Space Time Cube in 3D
arcpy.stpm.VisualizeSpaceTimeCube3D(r"C:\Users\mmMary\Documents\GIS_Classes\GIS_5572\Labs\Lab2\Lab2_take2\ppt_30yr_SPT_3.nc", "PPT_NONE_ZEROS", "VALUE", r"C:\Users\mmMary\Documents\GIS_Classes\GIS_5572\Labs\Lab2\Lab2_take2\Lab2_take2.gdb\ppt_30yr_SPT_3_VisualizeSpaceTimeCube3D")

# Cube can also be visualized in a 3D scene -- OPTIONAL STEP

# Convert layer to a package that can put into the scene

arcpy.management.Create3DObjectSceneLayerPackage(r'c:Temp\ArcGISProTemp22088\',
                                                 r'c:\ppt_30yr_SPT_3.nc", "PPT_NONE_ZEROS", "VALUE", r"C:\Users\mmMary\Documents\GIS_Classes\GIS_5572\Labs\Lab2\Lab2_take2\Lab2_take2.gdb\STC_.slpk',
                                                 arcpy.SpatialReference(4326), None, 'DESKTOP')

arcpy.management.MakeSceneLayer(r"c:\Temp\stc.slpk", "Layer_name")

# Save the temporary Multi-Dimensional scene layer
arcpy.management.SaveToLayerFile("ppt_30yr_MultiD_3", r"C:\Users\mmMary\Documents\GIS_Classes\GIS_5572\Labs\Lab2\Lab2_take2\ppt_30yr_MultiD_3_Layer.lyrx", "ABSOLUTE", "CURRENT")

# Can this be done with arcpy?

# import os
directory = os.fsencode(r"C:\Users\mmMary\Documents\8990\DATA\Precipitation")

for file in os.listdir(directory):
    filename = os.fsdecode(file)
    if filename.endswith(".bil"):
        # Get file names for all .bil files
#         print(filename)
        
        # Reproject
              
        base_path = r"C:\Users\mmMary\Documents\8990\T\Project_Rasters\ppt"
        output_file = os.path.join(base_path, filename)
#         project_output_name = project_output_path + filename
#         arcpy.management.ProjectRaster(filename, output_file, 'PROJCS["NAD_1983_UTM_Zone_15N",GEOGCS["GCS_North_American_1983",DATUM["D_North_American_1983",SPHEROID["GRS_1980",6378137.0,298.257222101]],PRIMEM["Greenwich",0.0],UNIT["Degree",0.0174532925199433]],PROJECTION["Transverse_Mercator"],PARAMETER["False_Easting",500000.0],PARAMETER["False_Northing",0.0],PARAMETER["Central_Meridian",-93.0],PARAMETER["Scale_Factor",0.9996],PARAMETER["Latitude_Of_Origin",0.0],UNIT["Meter",1.0]]', "NEAREST", "4874.84258823013 4874.84258823013", None, None, 'GEOGCS["GCS_North_American_1983",DATUM["D_North_American_1983",SPHEROID["GRS_1980",6378137.0,298.257222101]],PRIMEM["Greenwich",0.0],UNIT["Degree",0.0174532925199433]]', "NO_VERTICAL")
        arcpy.management.ProjectRaster(filename, project_output, 'PROJCS["NAD_1983_UTM_Zone_15N",GEOGCS["GCS_North_American_1983",DATUM["D_North_American_1983",SPHEROID["GRS_1980",6378137.0,298.257222101]],PRIMEM["Greenwich",0.0],UNIT["Degree",0.0174532925199433]],PROJECTION["Transverse_Mercator"],PARAMETER["False_Easting",500000.0],PARAMETER["False_Northing",0.0],PARAMETER["Central_Meridian",-93.0],PARAMETER["Scale_Factor",0.9996],PARAMETER["Latitude_Of_Origin",0.0],UNIT["Meter",1.0]]', "NEAREST", "4874.84258823013 4874.84258823013", None, None, 'GEOGCS["GCS_North_American_1983",DATUM["D_North_American_1983",SPHEROID["GRS_1980",6378137.0,298.257222101]],PRIMEM["Greenwich",0.0],UNIT["Degree",0.0174532925199433]]', "NO_VERTICAL")
        # Perform clip
        print(output_file)
        
#        
        continue
    else:
        continue
        
#         print(output_file)
        
        
#  https://stackoverflow.com/questions/3751900/create-file-path-from-variables       

import os
directory = os.fsencode(r"C:\Users\mmMary\Documents\8990\DATA\Precipitation")

for file in os.listdir(directory):
    filename = os.fsdecode(file)
    if filename.endswith(".bil"):
        # Get file names for all .bil files
#         print(filename)
        
        # Reproject
              
        base_path = r"C:\Users\mmMary\Documents\8990\T\Project_Rasters\ppt"
        out_raster = os.path.join(base_path, filename)
        # Projection for MN
        spatial_reference_object = arcpy.SpatialReference(26915)
        
        arcpy.management.ProjectRaster(filename, out_raster, spatial_reference_object)
        print(output_file)
        
#         project_output_name = project_output_path + filename
#         arcpy.management.ProjectRaster(filename, output_file, 'PROJCS["NAD_1983_UTM_Zone_15N",GEOGCS["GCS_North_American_1983",DATUM["D_North_American_1983",SPHEROID["GRS_1980",6378137.0,298.257222101]],PRIMEM["Greenwich",0.0],UNIT["Degree",0.0174532925199433]],PROJECTION["Transverse_Mercator"],PARAMETER["False_Easting",500000.0],PARAMETER["False_Northing",0.0],PARAMETER["Central_Meridian",-93.0],PARAMETER["Scale_Factor",0.9996],PARAMETER["Latitude_Of_Origin",0.0],UNIT["Meter",1.0]]', "NEAREST", "4874.84258823013 4874.84258823013", None, None, 'GEOGCS["GCS_North_American_1983",DATUM["D_North_American_1983",SPHEROID["GRS_1980",6378137.0,298.257222101]],PRIMEM["Greenwich",0.0],UNIT["Degree",0.0174532925199433]]', "NO_VERTICAL")
#         arcpy.management.ProjectRaster(filename, project_output, 'PROJCS["NAD_1983_UTM_Zone_15N",GEOGCS["GCS_North_American_1983",DATUM["D_North_American_1983",SPHEROID["GRS_1980",6378137.0,298.257222101]],PRIMEM["Greenwich",0.0],UNIT["Degree",0.0174532925199433]],PROJECTION["Transverse_Mercator"],PARAMETER["False_Easting",500000.0],PARAMETER["False_Northing",0.0],PARAMETER["Central_Meridian",-93.0],PARAMETER["Scale_Factor",0.9996],PARAMETER["Latitude_Of_Origin",0.0],UNIT["Meter",1.0]]', "NEAREST", "4874.84258823013 4874.84258823013", None, None, 'GEOGCS["GCS_North_American_1983",DATUM["D_North_American_1983",SPHEROID["GRS_1980",6378137.0,298.257222101]],PRIMEM["Greenwich",0.0],UNIT["Degree",0.0174532925199433]]', "NO_VERTICAL")
        # Perform clip
      
#         arcpy.management.ProjectRaster(filename, out_raster, spatial_reference_object)
#         print(output_file)
        
#       arcpy.management.ProjectRaster(filename, output_file, out_coor_system, {resampling_type}, {cell_size}, {geographic_transform}, {Registration_Point}, {in_coor_system}, {vertical})

# Try on a single file

import os
directory = os.fsencode(r"C:\Users\mmMary\Documents\8990\DATA\Precipitation")

for file in os.listdir(directory):
    filename = os.fsdecode(file)
    if filename.endswith(".bil"):
        # Get file names for all .bil files
#         print(filename)
        
        # Reproject
              
        base_path = r"C:\Users\mmMary\Documents\8990\T\Project_Rasters\ppt"
        out_raster = os.path.join(base_path, filename)
        # Projection for MN
        spatial_reference_object = arcpy.SpatialReference(26915)
        
        arcpy.management.ProjectRaster(filename, out_raster, spatial_reference_object)
        print(output_file)
        
#         project_output_name = project_output_path + filename
#         arcpy.management.ProjectRaster(filename, output_file, 'PROJCS["NAD_1983_UTM_Zone_15N",GEOGCS["GCS_North_American_1983",DATUM["D_North_American_1983",SPHEROID["GRS_1980",6378137.0,298.257222101]],PRIMEM["Greenwich",0.0],UNIT["Degree",0.0174532925199433]],PROJECTION["Transverse_Mercator"],PARAMETER["False_Easting",500000.0],PARAMETER["False_Northing",0.0],PARAMETER["Central_Meridian",-93.0],PARAMETER["Scale_Factor",0.9996],PARAMETER["Latitude_Of_Origin",0.0],UNIT["Meter",1.0]]', "NEAREST", "4874.84258823013 4874.84258823013", None, None, 'GEOGCS["GCS_North_American_1983",DATUM["D_North_American_1983",SPHEROID["GRS_1980",6378137.0,298.257222101]],PRIMEM["Greenwich",0.0],UNIT["Degree",0.0174532925199433]]', "NO_VERTICAL")
#         arcpy.management.ProjectRaster(filename, project_output, 'PROJCS["NAD_1983_UTM_Zone_15N",GEOGCS["GCS_North_American_1983",DATUM["D_North_American_1983",SPHEROID["GRS_1980",6378137.0,298.257222101]],PRIMEM["Greenwich",0.0],UNIT["Degree",0.0174532925199433]],PROJECTION["Transverse_Mercator"],PARAMETER["False_Easting",500000.0],PARAMETER["False_Northing",0.0],PARAMETER["Central_Meridian",-93.0],PARAMETER["Scale_Factor",0.9996],PARAMETER["Latitude_Of_Origin",0.0],UNIT["Meter",1.0]]', "NEAREST", "4874.84258823013 4874.84258823013", None, None, 'GEOGCS["GCS_North_American_1983",DATUM["D_North_American_1983",SPHEROID["GRS_1980",6378137.0,298.257222101]],PRIMEM["Greenwich",0.0],UNIT["Degree",0.0174532925199433]]', "NO_VERTICAL")
        # Perform clip
      
#         arcpy.management.ProjectRaster(filename, out_raster, spatial_reference_object)
#         print(output_file)
        
#       arcpy.management.ProjectRaster(filename, output_file, out_coor_system, {resampling_type}, {cell_size}, {geographic_transform}, {Registration_Point}, {in_coor_system}, {vertical})

# This works when I project one file at a time but doesn't when looping thru folder

import os
# Set base path for raw rasters
directory = os.fsencode(r"C:\Users\mmMary\Documents\8990\DATA\Precipitation")

for file in os.listdir(directory):
    filename = os.fsdecode(file)
    if filename.endswith(".bil"):
        
# Get file names for all .bil files
#         print(filename)
                            
        base_path = r"C:\Users\mmMary\Documents\8990\T\Project_Rasters\ppt"
        out_raster = os.path.join(base_path, filename)
       
 # Projection system for MN
        spatial_reference_object = arcpy.SpatialReference(26915)
        
# Project all US scale rasters
        arcpy.management.ProjectRaster(filename, out_raster, spatial_reference_object)
        print(output_file)


# Create project command using spatial reference object

in_raster = r"C:\Users\mmMary\Documents\8990\DATA\Precipitation\PRISM_ppt_30yr_normal_4kmM3_annual_bil.bil"
out_raster = r"C:\Users\mmMary\Documents\8990\T\Project_Rasters\ppt\PRISM_ppt_30yr_normal_4kmM3_annual_bil.bil"
# wkt = 'PROJCS["NAD_1983_UTM_Zone_15N",GEOGCS["GCS_North_American_1983",DATUM["D_North_American_1983",SPHEROID["GRS_1980",6378137.0,298.257222101]],PRIMEM["Greenwich",0.0],UNIT["Degree",0.0174532925199433]],PROJECTION["Transverse_Mercator"],PARAMETER["False_Easting",500000.0],PARAMETER["False_Northing",0.0],PARAMETER["Central_Meridian",-93.0],PARAMETER["Scale_Factor",0.9996],PARAMETER["Latitude_Of_Origin",0.0],UNIT["Meter",1.0]]'
spatial_reference_object = arcpy.SpatialReference(26915)
arcpy.management.ProjectRaster(in_raster, out_raster, spatial_reference_object)

# Sources:
# https://pro.arcgis.com/en/pro-app/latest/tool-reference/data-management/project-raster.htm
# https://pro.arcgis.com/en/pro-app/latest/arcpy/classes/spatialreference.htm
#     https://epsg.io/26915

in_raster = r"C:\Users\mmMary\Documents\8990\DATA\Precipitation\PRISM_ppt_30yr_normal_4kmM3_01_bil.bil"
out_raster = r"C:\Users\mmMary\Documents\8990\T\Project_Rasters\ppt\PRISM_ppt_30yr_normal_4kmM3_01_bil.bil"

arcpy.management.ProjectRaster(in_raster, out_raster, ref_obj)

ref_obj = arcpy.Describe(r"C:\Users\mmMary\Documents\8990\T\Project_Rasters\ppt\PRISM_ppt_30yr_normal_4kmM3_11_bil.bil").spatialReference
ref_obj

in_raster = r"C:\Users\mmMary\Documents\8990\DATA\Precipitation\PRISM_ppt_30yr_normal_4kmM3_07_bil.bil"
out_raster = r"C:\Users\mmMary\Documents\8990\T\Project_Rasters\ppt\PRISM_ppt_30yr_normal_4kmM3_07_bil.bil"
# wkt = 'PROJCS["NAD_1983_UTM_Zone_15N",GEOGCS["GCS_North_American_1983",DATUM["D_North_American_1983",SPHEROID["GRS_1980",6378137.0,298.257222101]],PRIMEM["Greenwich",0.0],UNIT["Degree",0.0174532925199433]],PROJECTION["Transverse_Mercator"],PARAMETER["False_Easting",500000.0],PARAMETER["False_Northing",0.0],PARAMETER["Central_Meridian",-93.0],PARAMETER["Scale_Factor",0.9996],PARAMETER["Latitude_Of_Origin",0.0],UNIT["Meter",1.0]]'
spatial_reference_object = arcpy.SpatialReference(26915)
arcpy.management.ProjectRaster(in_raster, out_raster, spatial_reference_object)

import os
directory = 'files'

# Iterate over files in 

for file in os.listdir(directory):
    f = os.path.join(directory, file)

import arcpy, os
mn_boundary = r"C:\Users\mmMary\Documents\8990\Layers\MN_Boundary\State.shp"
arcpy.env.workspace = r"C:\Users\mmMary\Documents\8990\T\Project_Rasters\ppt"

raster_list = arcpy.ListRasters()
for raster in raster_list:
    mn_raster = os.path.join(r"C:\Users\mmMary\Documents\8990\T\MN_Extent_Clip", "mn" + raster )
    arcpy.management.Clip(raster, "189775.332 4816305.37 761655.0734 5472427.737", mn_raster, "State", "99999", "ClippingGeometry", "MAINTAIN_EXTENT")
    
    


# Sources
# https://stackoverflow.com/questions/30043403/create-for-loop-to-process-multiple-rasters-in-a-file-using-arcpy-clip-managemen
# https://pro.arcgis.com/en/pro-app/latest/tool-reference/data-management/clip.htm

# Try only changing rectangle
#  arcpy.management.Clip(
# in_raster, rectangle, out_raster, {in_template_dataset}, 
# {nodata_value}, {clipping_geometry}, {maintain_clipping_extent})

import arcpy, os
mn_boundary = r"C:\Users\mmMary\Documents\8990\Layers\MN_Boundary\State.shp"
arcpy.env.workspace = r"C:\Users\mmMary\Documents\8990\T\Project_Rasters\ppt"
arcpy.env.overwriteOutput = True

raster_list = arcpy.ListRasters()
for raster in raster_list:
    mn_raster = os.path.join(r"C:\Users\mmMary\Documents\8990\T\MN_Extent_Clip", "mn" + raster )
    arcpy.management.Clip(raster, "170463.204 4796993.2567 780967.2014 5491739.865", mn_raster, "#", "99999", "#", "MAINTAIN_EXTENT")
    
    


# Sources
# https://stackoverflow.com/questions/30043403/create-for-loop-to-process-multiple-rasters-in-a-file-using-arcpy-clip-managemen
# https://pro.arcgis.com/en/pro-app/latest/tool-reference/data-management/clip.htm

import arcpy, os
arcpy.env.overwriteOutput = True
mn_boundary = r"C:\Users\mmMary\Documents\8990\Layers\MN_Boundary\State.shp"
arcpy.env.workspace = r"C:\Users\mmMary\Documents\8990\T\Project_Rasters\ppt"

raster_list = arcpy.ListRasters()
for raster in raster_list:
    mn_raster = os.path.join(r"C:\Users\mmMary\Documents\8990\T\MN_Extent_Clip", "mn" + raster )
#     arcpy.management.Clip(raster, "189775.332 4816305.37 761655.0734 5472427.737", mn_raster, "State", "99999", "ClippingGeometry", "MAINTAIN_EXTENT")
    
    arcpy.management.Clip(
        raster, "170463.204 4796993.2567 780967.2014 5491739.865", 
        mn_raster, "NONE", "99999", "State_Buffer", "MAINTAIN_EXTENT")
    
    
# arcpy.management.Clip(r"C:\Users\mmMary\Documents\8990\T\Project_Rasters\ppt\PRISM_ppt_30yr_normal_4kmM3_01_bil.bil", "170463.204 4796993.2567 780967.2014 5491739.865", r"C:\Users\mmMary\Documents\8990\T\MN_Extent_Clip\mnPRISM_ppt_30yr_normal_4kmM3_01_bil.bil", "State_Buffer", "-9999", "NONE", "MAINTAIN_EXTENT")
# Sources
# https://stackoverflow.com/questions/30043403/create-for-loop-to-process-multiple-rasters-in-a-file-using-arcpy-clip-managemen
# https://pro.arcgis.com/en/pro-app/latest/tool-reference/data-management/clip.htm

arcpy.management.Clip("PRISM_ppt_30yr_normal_4kmM3_05_bil.bil", "170463.204 4796993.2567 780967.2014 5491739.865", r"C:\Users\mmMary\Documents\8990\T\MN_Extent_Clip\big_clip", "State_Buffer", "-9999", "NONE", "MAINTAIN_EXTENT")

import os

# Function to shorten file names
def main():
    folder = r"C:\Users\mmMary\Desktop\Temp_Min"
    for count, filename in 

# THIS WORKS!!!!!!!!!!!!!!!!!!!!!!!!!!!!!!!!!!!!!!

# Copy raw data files into a new folder in the temperary data directiory to store the shorter named files
# This preserves to raw data

# import os

# Navigate to folder
dir_path = r"C:\Users\mmMary\Documents\8990\T\DATA\tmin"  # SET FILE PATH TO TEMPORARY DATA FOLDER!!
os.chdir(dir_path)

for f in os.listdir():
    
    # Split off file extension from filename
    file_name, file_ext =os.path.splitext(f)
    
    # Split each name component into seperate parts
    prism, weather_type, yr, normal, resolution, month, extension = file_name.split('_')
    
#     print(os.path.splitext(f))
#     print(extension)
    
    # Rename all files to short names
#     new_name = '{}_{}_{}'.format(weather_type, month, extension)
    new_name = '{}_{}_{}{}'.format(weather_type, month, extension, file_ext)

#     print('{}_{}_{}'.format(weather_type, month, extension))
#     print('{}_{}_{}{}'.format(weather_type, month, extension, file_ext))
    os.rename(f, new_name)
    print(weather_type, "renamed files are done")
#     print(extension, file_ext)
    
#     """ 
#     - Copy raw files to new folder
#     - Rename
    
#     https://youtu.be/ve2pmm5JqmI
    
#     """




# THIS WORKS!!!!!!!!!!!!!!!!!!!!!!!!!!!!!!!!!!!!!!

# Copy raw data files into a new folder in the temperary data directiory to store the shorter named files
# This preserves to raw data

import os

# Navigate to folder
dir_path = r"C:\Users\mmMary\Documents\8990\DATA\Temp_Min"  # SET FILE PATH TO TEMPORARY DATA FOLDER!!
os.chdir(dir_path)

for f in os.listdir():
    
    # Split off file extension from filename
    file_name, file_ext =os.path.splitext(f)
    
    # Split each name component into seperate parts
    prism, weather_type, yr, normal, resolution, month, extension = file_name.split('_')
    
    if month = annual:
        month = ann
    
    print(month)
    
#     print(os.path.splitext(f))
    
    # Rename all files to short names
#     new_name = '{}_{}_{}'.format(weather_type, month, extension)
#     new_name = '{}_{}_{}{}'.format(weather_type, month, extension, file_ext)

#     print('{}_{}_{}'.format(weather_type, month, extension))
#     print('{}_{}_{}{}'.format(weather_type, month, extension, file_ext))
#     os.rename(f, new_name)
#     print(weather_type, "renamed files are done")
#     print(extension, file_ext)
    
#     """ 
#     - Copy raw files to new folder
#     - Rename
    
#     https://youtu.be/ve2pmm5JqmI
    
#     """












# for f in os.listdir():
test = "PRISM_tmin_30yr_normal_4kmM3_01_bil.bil.aux.xml".split(os.extsep)
print(test)

# Now turn this into a function

# Copy raw data files into a new folder in the temperary data directiory to store the shorter named files
# This preserves to raw data

# import os

# Navigate to folder
# dir_path = r"C:\Users\mmMary\Documents\8990\T\DATA\tmax"  # SET FILE PATH TO TEMPORARY DATA FOLDER!!
# os.chdir(dir_path)

# weather_variable = "tmax" 

def name_reducer(climate_variable):
# climate_variable = "tmax"        
# dir_path = r"C:\Users\mmMary\Documents\8990\T\DATA\tmax"  # SET FILE PATH TO TEMPORARY DATA FOLDER!!
    dir_path = os.path.join(r"C:\Users\mmMary\Documents\8990\T\DATA", climate_variable)
    os.chdir(dir_path)
    
    for f in os.listdir():

    # Split off file extension from filename
        file_name, file_ext =os.path.splitext(f)

    # Split each name component into seperate parts
        prism, weather_type, yr, normal, resolution, month, extension = file_name.split('_')

    # New name combines just the weather type,month, multiple file extensions where applicable & the last file type
        new_name = '{}_{}_{}{}'.format(weather_type, month, extension, file_ext)

    # Rename all files to short names
        os.rename(f, new_name)

    print(weather_type, "renamed files are done")

name_reducer("tmax")
    
#     https://youtu.be/ve2pmm5JqmI



import os

# Navigate to folder
dir_path = r"C:\Users\mmMary\Documents\8990\T\DATA\tmin"
os.chdir(dir_path)

for f in os.listdir():
    
    # Split off file extension from filename
    file_name, file_ext =os.path.splitext(f)
    
    # Split each name component into seperate parts
    prism, weather_type, yr, normal, resolution, month, extension = file_name.split('_')
    
    print(os.path.splitext(f))
    
    # Rename all files to short names
#     new_name = '{}_{}_{}'.format(weather_type, month, extension)
#     print('{}_{}_{}{}'.format(weather_type, month, extension, file_ext))
#     os.rename(f, new_name)
#     print(weather_type, " renamed files are done")
#     print(extension, file_ext)
    
#     """ 
#     - Copy raw files to new folder
#     - Rename
    
#     https://youtu.be/ve2pmm5JqmI
    
#     """














# Incorporate try & except

# import os

# Navigate to folder
dir_path = r"C:\Users\mmMary\Documents\8990\T\DATA\tmin"
os.chdir(dir_path)

for f in os.listdir():
    error_list = []
    
    try:    
        # Split off file extension from filename
        file_name, file_ext =os.path.splitext(f)
        # Split each name component into seperate parts
        prism, weather_type, yr, normal, resolution, month, extension = file_name.split('_')
        # Rename all files to short names
        new_name = '{}_{}_{}'.format(weather_type, month, extension)
        print('{}_{}_{}{}'.format(weather_type, month, extension, file_ext))
        os.rename(f, new_name)
#     print(weather_type, " renamed files are done")

#     except FileExistsError as e:
#         error_list.append(e)
#     print(error_list)







print(error_list)

















# Incorporate try & except

# import os

# Navigate to folder
dir_path = r"C:\Users\mmMary\Desktop\Temp_Min"
os.chdir(dir_path)

# Make a new folder for copied files. This preserves the original data.

# os.mkdir(r"C:\Users\mmMary\Desktop\Temp_Min" )
short_name_base_path = r"C:\Users\mmMary\Documents\8990\T\DATA"

for f in os.listdir():
    error_list = []
    try:
       
    # Split off file extension from filename
    file_name, file_ext =os.path.splitext(f)
    
    # Split each name component into seperate parts
    prism, weather_type, yr, normal, resolution, month, extension = file_name.split('_')
    
    
#     new_name = '{}_{}_{}'.format(weather_type, month, extension)
#     print('{}_{}_{}{}'.format(weather_type, month, extension, file_ext))
#     os.rename(f, new_name)
#     print(file_ext)
    
    
    
   
    """ 
    - Copy raw files to new folder
    - Rename
    
    https://youtu.be/ve2pmm5JqmI
    
    """


# Copy raw data files into a new folder in the temperary data directiory to store the shorter named files
# This preserves to raw data

# import os

# Navigate to folder
dir_path = r"C:\Users\mmMary\Desktop\Temp_Min"  # SET FILE PATH TO TEMPORARY DATA FOLDER!!
os.chdir(dir_path)
# Destination for
short_name_base_path = r"C:\Users\mmMary\Documents\8990\T\DATA"

# Split file extension from filename
file_name, file_ext =os.path.splitext(f)

# Split each name component into seperate parts
prism, weather_type, yr, normal, resolution, month, extension = file_name.split('_')
  
# Create path name for copied files    
short_name_dir = os.path.join(short_name_base_path, weather_type)
# Make new folder for copied files
# os.mkdir(short_name_dir)

for f in os.listdir():
       
    new_name = '{}_{}_{}'.format(weather_type, month, extension)
    print('{}_{}_{}{}'.format(weather_type, month, extension, file_ext))
#     os.rename(f, new_name)
#     print(file_ext)
    
    
    
    short_name_dir = os.path.join(short_name_base_path, weather_type)
#     os.mkdir
#     print(short_name_dir)

    
    
#     for f in os.listdir():
#     """ 
#     - Copy raw files to new folder
#     - Rename
    
#     https://youtu.be/ve2pmm5JqmI
    
#     """


for f in os.listdir():
    print(f)

# import os

# Navigate to folder
dir_path = r"C:\Users\mmMary\Documents\8990\T\DATA\tmin"
os.chdir(dir_path)

for f in os.listdir():
    
    # Split off file extension from filename  THE PROBLEM IS THERE ARE TRIPLE EXTENSIONS THAT DON'T SPLIT OFF
# Try os.extsep   test = "PRISM_tmin_30yr_normal_4kmM3_01_bil.bil.aux.xml".split(os.extsep)

    test = f.split(os.extsep) # this splits all extenions 
    

#     file_name, file_ext =os.path.splitext(f)
    
    # Split each name component into seperate parts
#     prism, weather_type, yr, normal, resolution, month, extension = file_name.split('_')
    
#     print(os.path.splitext(f))
    print(test)
    # Rename all files to short names
#     new_name = '{}_{}_{}'.format(weather_type, month, extension)
#     print('{}_{}_{}{}'.format(weather_type, month, extension, file_ext))
#     os.rename(f, new_name)
#     print(weather_type, " renamed files are done")
#     print(extension, file_ext)
    
#     """ 
#     - Copy raw files to new folder
#     - Rename
    
#     https://youtu.be/ve2pmm5JqmI
    
#     """
# Ca

# Can I not split the extention

# import os

# Navigate to folder
dir_path = r"C:\Users\mmMary\Documents\8990\T\DATA\tmin"
os.chdir(dir_path)

for f in os.listdir():
    
    # Split off file extension from filename  THE PROBLEM IS THERE ARE TRIPLE EXTENSIONS THAT DON'T SPLIT OFF
# Try os.extsep   test = "PRISM_tmin_30yr_normal_4kmM3_01_bil.bil.aux.xml".split(os.extsep)

  
    file_name =os.path.splitext(f)  # Splits off last file ext but keeps others with name
    
    # Split each name component into seperate parts
#     arg = file_name.split('.')
    prism, weather_type, yr, normal, resolution, month, extension = file_name.split('_')
    
#     print(os.path.splitext(f))
#     print(file_name)
    # Rename all files to short names
#     new_name = '{}_{}_{}'.format(weather_type, month, extension)
#     print('{}_{}_{}{}'.format(weather_type, month, extension, file_ext))
#     os.rename(f, new_name)
#     print(weather_type, " renamed files are done")
#     print(extension, file_ext)
    
#     """ 
#     - Copy raw files to new folder
#     - Rename
    
#     https://youtu.be/ve2pmm5JqmI
    
#     """


# import os

# Navigate to folder
dir_path = r"C:\Users\mmMary\Desktop\Temp_Min"
os.chdir(dir_path)

# Make a new folder for copied files. This preserves the original data.

# os.mkdir(r"C:\Users\mmMary\Desktop\Temp_Min" )
short_name_base_path = r"C:\Users\mmMary\Documents\8990\T\DATA"

# Split file extension from filename
file_name, file_ext =os.path.splitext(f)

# Split each name component into seperate parts
prism, weather_type, yr, normal, resolution, month, extension = file_name.split('_')
  
# Create path name for copied files    
short_name_dir = os.path.join(short_name_base_path, weather_type)
# Make new folder for copied files
# os.mkdir(short_name_dir)

for f in os.listdir():
       
    new_name = '{}_{}_{}'.format(weather_type, month, extension)
    print('{}_{}_{}{}'.format(weather_type, month, extension, file_ext))
#     os.rename(f, new_name)
#     print(file_ext)
    
    
    
    short_name_dir = os.path.join(short_name_base_path, weather_type)
#     os.mkdir
#     print(short_name_dir)

    
    
#     for f in os.listdir():
#     """ 
#     - Copy raw files to new folder
#     - Rename
    
#     https://youtu.be/ve2pmm5JqmI
    
#     """


pip install rasterio


