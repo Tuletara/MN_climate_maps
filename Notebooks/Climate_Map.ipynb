{
 "cells": [
  {
   "cell_type": "code",
   "execution_count": 16,
   "metadata": {},
   "outputs": [],
   "source": [
    "# Import packages & set workspace\n",
    "import os\n",
    "import requests as r\n",
    "from zipfile import ZipFile\n",
    "\n",
    "import arcpy\n",
    "from arcpy.sa import *\n",
    "\n",
    "arcpy.env.workspace = r'C:\\Users\\mmMary\\Documents\\8990\\Map\\Weather_Map.aprx'"
   ]
  },
  {
   "cell_type": "markdown",
   "metadata": {},
   "source": [
    "# Step 1. Data collection & preparation\n",
    "\n",
    "Climate normals files must be downloaded, unzipped, & projected. They are sourced from: https://prism.oregonstate.edu/normals \n"
   ]
  },
  {
   "cell_type": "markdown",
   "metadata": {},
   "source": [
    "Temporal scales are Monthly & Annual \n",
    "#### Variables are: \n",
    "    * Precipitation\n",
    "    * Mean Temperature\n",
    "    * Minimum Temperature\n",
    "    * Maximum Temperature"
   ]
  },
  {
   "cell_type": "markdown",
   "metadata": {},
   "source": [
    "### Generate list for pulling all monthly & annual variables for normals\n",
    "  Number 14 denotes the annual normals whereas the months are 01 - 12"
   ]
  },
  {
   "cell_type": "code",
   "execution_count": 21,
   "metadata": {
    "scrolled": true
   },
   "outputs": [
    {
     "name": "stdout",
     "output_type": "stream",
     "text": [
      "['01', '02', '03', '04', '05', '06', '07', '08', '09', '10', '11', '12', '14']\n"
     ]
    }
   ],
   "source": [
    "# Generate list for pulling all monthly & annual variables for normals\n",
    "\n",
    "date_list = [\"%.2d\" % i for i in range(13)]\n",
    "date_list.pop(0)\n",
    "# Add for the 14 annual normals to the list\n",
    "date_list.append('14')\n",
    "\n",
    "print(date_list)\n",
    "\n",
    "# https://stackoverflow.com/questions/12030074/generate-list-of-numbers-in-specific-format"
   ]
  },
  {
   "cell_type": "markdown",
   "metadata": {},
   "source": [
    "### Make an API call to download all data from the PRISM website"
   ]
  },
  {
   "cell_type": "code",
   "execution_count": 93,
   "metadata": {
    "collapsed": true
   },
   "outputs": [
    {
     "name": "stdout",
     "output_type": "stream",
     "text": [
      "http://services.nacse.org/prism/data/public/normals/4km\\ppt_01\n",
      "http://services.nacse.org/prism/data/public/normals/4km\\ppt_02\n",
      "http://services.nacse.org/prism/data/public/normals/4km\\ppt_03\n",
      "http://services.nacse.org/prism/data/public/normals/4km\\ppt_04\n",
      "http://services.nacse.org/prism/data/public/normals/4km\\ppt_05\n",
      "http://services.nacse.org/prism/data/public/normals/4km\\ppt_06\n",
      "http://services.nacse.org/prism/data/public/normals/4km\\ppt_07\n",
      "http://services.nacse.org/prism/data/public/normals/4km\\ppt_08\n",
      "http://services.nacse.org/prism/data/public/normals/4km\\ppt_09\n",
      "http://services.nacse.org/prism/data/public/normals/4km\\ppt_10\n",
      "http://services.nacse.org/prism/data/public/normals/4km\\ppt_11\n",
      "http://services.nacse.org/prism/data/public/normals/4km\\ppt_12\n",
      "http://services.nacse.org/prism/data/public/normals/4km\\ppt_14\n",
      "http://services.nacse.org/prism/data/public/normals/4km\\tmean_01\n",
      "http://services.nacse.org/prism/data/public/normals/4km\\tmean_02\n",
      "http://services.nacse.org/prism/data/public/normals/4km\\tmean_03\n",
      "http://services.nacse.org/prism/data/public/normals/4km\\tmean_04\n",
      "http://services.nacse.org/prism/data/public/normals/4km\\tmean_05\n",
      "http://services.nacse.org/prism/data/public/normals/4km\\tmean_06\n",
      "http://services.nacse.org/prism/data/public/normals/4km\\tmean_07\n",
      "http://services.nacse.org/prism/data/public/normals/4km\\tmean_08\n",
      "http://services.nacse.org/prism/data/public/normals/4km\\tmean_09\n",
      "http://services.nacse.org/prism/data/public/normals/4km\\tmean_10\n",
      "http://services.nacse.org/prism/data/public/normals/4km\\tmean_11\n",
      "http://services.nacse.org/prism/data/public/normals/4km\\tmean_12\n",
      "http://services.nacse.org/prism/data/public/normals/4km\\tmean_14\n",
      "http://services.nacse.org/prism/data/public/normals/4km\\tmax_01\n",
      "http://services.nacse.org/prism/data/public/normals/4km\\tmax_02\n",
      "http://services.nacse.org/prism/data/public/normals/4km\\tmax_03\n",
      "http://services.nacse.org/prism/data/public/normals/4km\\tmax_04\n",
      "http://services.nacse.org/prism/data/public/normals/4km\\tmax_05\n",
      "http://services.nacse.org/prism/data/public/normals/4km\\tmax_06\n",
      "http://services.nacse.org/prism/data/public/normals/4km\\tmax_07\n",
      "http://services.nacse.org/prism/data/public/normals/4km\\tmax_08\n",
      "http://services.nacse.org/prism/data/public/normals/4km\\tmax_09\n",
      "http://services.nacse.org/prism/data/public/normals/4km\\tmax_10\n",
      "http://services.nacse.org/prism/data/public/normals/4km\\tmax_11\n",
      "http://services.nacse.org/prism/data/public/normals/4km\\tmax_12\n",
      "http://services.nacse.org/prism/data/public/normals/4km\\tmax_14\n",
      "http://services.nacse.org/prism/data/public/normals/4km\\tmin_01\n",
      "http://services.nacse.org/prism/data/public/normals/4km\\tmin_02\n",
      "http://services.nacse.org/prism/data/public/normals/4km\\tmin_03\n",
      "http://services.nacse.org/prism/data/public/normals/4km\\tmin_04\n",
      "http://services.nacse.org/prism/data/public/normals/4km\\tmin_05\n",
      "http://services.nacse.org/prism/data/public/normals/4km\\tmin_06\n",
      "http://services.nacse.org/prism/data/public/normals/4km\\tmin_07\n",
      "http://services.nacse.org/prism/data/public/normals/4km\\tmin_08\n",
      "http://services.nacse.org/prism/data/public/normals/4km\\tmin_09\n",
      "http://services.nacse.org/prism/data/public/normals/4km\\tmin_10\n",
      "http://services.nacse.org/prism/data/public/normals/4km\\tmin_11\n",
      "http://services.nacse.org/prism/data/public/normals/4km\\tmin_12\n",
      "http://services.nacse.org/prism/data/public/normals/4km\\tmin_14\n"
     ]
    }
   ],
   "source": [
    "# Sample url: 'http://services.nacse.org/prism/data/public/4km/<element>/<date>' \n",
    "\n",
    "# Set a list of climate variables, base URL\n",
    "element = [\"ppt_\", \"tmean_\", \"tmax_\", \"tmin_\"]\n",
    "base = \"http://services.nacse.org/prism/data/public/normals/4km\"\n",
    "\n",
    "for e in element:\n",
    "    for i in date_list:\n",
    "        url = os.path.join(base, e + i)\n",
    "        r.get(base + element + date)   # API call for the data \n",
    "        print(url) \n",
    "    "
   ]
  },
  {
   "cell_type": "markdown",
   "metadata": {},
   "source": [
    "### Unzip files & move to seperate weather variable folders\n",
    "#### Set variables: \n",
    "* data_base_path - Path where unzipped files will go\n",
    "* directory - Path for downloaded zipped files"
   ]
  },
  {
   "cell_type": "code",
   "execution_count": null,
   "metadata": {},
   "outputs": [],
   "source": [
    "# Set path for unzipped files\n",
    "from zipfile import ZipFile\n",
    "\n",
    "data_base_path = r\"C:\\Users\\mmMary\\Documents\\8990\\DATA\"  # Path for unzipped files\n",
    "directory = r\"C:\\Users\\mmMary\\Downloads\"  # Path for downloaded zipped files\n",
    "\n",
    "def unzip_climate(element):\n",
    "    output_data_folder = os.path.join(data_base_path, element)\n",
    "\n",
    "    for filename in os.listdir(directory):\n",
    "        if filename.startswith(\"PRISM_\" + element):\n",
    "            with ZipFile(filename, 'r') as zipObj:\n",
    "                zipObj.extractall(output_data_folder)\n",
    "\n",
    "unzip_climate(\"ppt\")"
   ]
  },
  {
   "cell_type": "code",
   "execution_count": 134,
   "metadata": {},
   "outputs": [
    {
     "name": "stdout",
     "output_type": "stream",
     "text": [
      "unable to download: [Errno 2] No such file or directory: 'PRISM_ppt_30yr_normal_4kmM3_02_bil.zip'\n"
     ]
    }
   ],
   "source": [
    "# Set path for unzipped files\n",
    "from zipfile import ZipFile\n",
    "\n",
    "data_base_path = r\"C:\\Users\\mmMary\\Documents\\8990\\DATA\"  # Path for unzipped files\n",
    "directory = r\"C:\\Users\\mmMary\\Downloads\"  # Path for downloaded zipped files\n",
    "\n",
    "def unzip_climate(element):\n",
    "    output_data_folder = os.path.join(data_base_path, element)\n",
    "\n",
    "    try:\n",
    "        for filename in os.listdir(directory):\n",
    "            if filename.startswith(\"PRISM_\" + element):\n",
    "                with ZipFile(filename, 'r') as zipObj:\n",
    "                    zipObj.extractall(output_data_folder)\n",
    "    \n",
    "    except Exception as e:\n",
    "        print(\"unable to download:\",  e)\n",
    "        \n",
    "\n",
    "unzip_climate(\"ppt\")"
   ]
  },
  {
   "cell_type": "markdown",
   "metadata": {},
   "source": [
    "### Reduce file name to only include weather variable & timeframe\n",
    "There are character limitaions for Esri file names that often cause problems. \n",
    "Since the downloaded files have lengthy names, this should avoid errors for breakin Esri's naming convention."
   ]
  },
  {
   "cell_type": "markdown",
   "metadata": {},
   "source": [
    "climate_variable:\n",
    "- ppt\n",
    "- tmax\n",
    "- tmin\n",
    "- tmean"
   ]
  },
  {
   "cell_type": "code",
   "execution_count": 102,
   "metadata": {},
   "outputs": [
    {
     "name": "stdout",
     "output_type": "stream",
     "text": [
      "ppt renamed files are done\n"
     ]
    }
   ],
   "source": [
    "# Copy raw data files into a new folder in the temperary data directiory to store the shorter named files\n",
    "# This preserves to raw data\n",
    "\n",
    "# import os\n",
    "\n",
    "def name_reducer(climate_variable):\n",
    "     \n",
    "# SET FILE PATH TO TEMPORARY DATA FOLDER\n",
    "    dir_path = os.path.join(r\"C:\\Users\\mmMary\\Documents\\8990\\T\\DATA\", climate_variable)\n",
    "    os.chdir(dir_path)\n",
    "    \n",
    "    for f in os.listdir():\n",
    "\n",
    "    # Split off file extension from filename\n",
    "        file_name, file_ext =os.path.splitext(f)\n",
    "\n",
    "    # Split each name component into seperate parts\n",
    "        prism, weather_type, yr, normal, resolution, month, extension = file_name.split('_')\n",
    "\n",
    "    # New name combines just the weather type,month, multiple file extensions where applicable & the last file type\n",
    "        new_name = '{}_{}_{}{}'.format(weather_type, month, extension, file_ext)\n",
    "\n",
    "    # Rename all files to short names\n",
    "        os.rename(f, new_name)\n",
    "\n",
    "    print(weather_type, \"renamed files are done\")\n",
    "\n",
    "name_reducer(\"ppt\")\n",
    "    \n",
    "#     https://youtu.be/ve2pmm5JqmI\n",
    "\n"
   ]
  },
  {
   "cell_type": "markdown",
   "metadata": {},
   "source": [
    "# Step 2. Reproject raw rasters into Minnesota Coordinate Refence System\n",
    "#### EPSG 26915 - NAD83 UTM 15N"
   ]
  },
  {
   "cell_type": "markdown",
   "metadata": {},
   "source": [
    "### The following are my attempts to automate projection into MN UTM CRS"
   ]
  },
  {
   "cell_type": "code",
   "execution_count": 152,
   "metadata": {},
   "outputs": [
    {
     "name": "stdout",
     "output_type": "stream",
     "text": [
      "ppt_01_bil.bil\n"
     ]
    },
    {
     "ename": "ExecuteError",
     "evalue": "ERROR 999999: Something unexpected caused the tool to fail. Contact Esri Technical Support (http://esriurl.com/support) to Report a Bug, and refer to the error help for potential solutions or workarounds.\nFailed to execute (ProjectRaster).\n",
     "output_type": "error",
     "traceback": [
      "\u001b[0;31m---------------------------------------------------------------------------\u001b[0m\n\u001b[0;31mExecuteError\u001b[0m                              Traceback (most recent call last)",
      "In  \u001b[0;34m[152]\u001b[0m:\nLine \u001b[0;34m11\u001b[0m:    arcpy.management.ProjectRaster(raster, arcpy.env.workspace, spatial_reference_object)\n",
      "File \u001b[0;34mC:\\Program Files\\ArcGIS\\Pro\\Resources\\ArcPy\\arcpy\\management.py\u001b[0m, in \u001b[0;32mProjectRaster\u001b[0m:\nLine \u001b[0;34m14033\u001b[0m: \u001b[34mraise\u001b[39;49;00m e\n",
      "File \u001b[0;34mC:\\Program Files\\ArcGIS\\Pro\\Resources\\ArcPy\\arcpy\\management.py\u001b[0m, in \u001b[0;32mProjectRaster\u001b[0m:\nLine \u001b[0;34m14030\u001b[0m: retval = convertArcObjectToPythonObject(gp.ProjectRaster_management(*gp_fixargs((in_raster, out_raster, out_coor_system, resampling_type, cell_size, geographic_transform, Registration_Point, in_coor_system, vertical), \u001b[34mTrue\u001b[39;49;00m)))\n",
      "File \u001b[0;34mC:\\Program Files\\ArcGIS\\Pro\\Resources\\ArcPy\\arcpy\\geoprocessing\\_base.py\u001b[0m, in \u001b[0;32m<lambda>\u001b[0m:\nLine \u001b[0;34m512\u001b[0m:   \u001b[34mreturn\u001b[39;49;00m \u001b[34mlambda\u001b[39;49;00m *args: val(*gp_fixargs(args, \u001b[34mTrue\u001b[39;49;00m))\n",
      "\u001b[0;31mExecuteError\u001b[0m: ERROR 999999: Something unexpected caused the tool to fail. Contact Esri Technical Support (http://esriurl.com/support) to Report a Bug, and refer to the error help for potential solutions or workarounds.\nFailed to execute (ProjectRaster).\n\n\u001b[0;31m---------------------------------------------------------------------------\u001b[0m"
     ]
    }
   ],
   "source": [
    "# This isn't working properly !!!! ERROR 999999\n",
    "import arcpy\n",
    "\n",
    "climate_variable = \"ppt\"\n",
    "# Set the current workspace\n",
    "arcpy.env.workspace = os.path.join(r\"C:\\Users\\mmMary\\Desktop\\8990\\test\\DATA\", climate_variable)\n",
    "spatial_reference_object = arcpy.SpatialReference(26915)\n",
    "\n",
    "rasters = arcpy.ListRasters()\n",
    "for raster in rasters:\n",
    "    print(raster)\n",
    "    arcpy.management.ProjectRaster(raster, arcpy.env.workspace, spatial_reference_object)\n",
    "    print(raster + \" is now in UTM15 N\")\n",
    "    \n",
    "# https://pro.arcgis.com/en/pro-app/latest/arcpy/functions/listrasters.htm    \n",
    "# https://pro.arcgis.com/en/pro-app/latest/tool-reference/data-management/project-raster.htm"
   ]
  },
  {
   "cell_type": "code",
   "execution_count": null,
   "metadata": {},
   "outputs": [],
   "source": [
    "# Project raw .bil U.S. files into MN CRS ESPG 26915\n",
    "\n",
    "# This works when running ind layer\n",
    "\n",
    "# Create project command using spatial reference object\n",
    "\n",
    "in_raster = r\"C:\\Users\\mmMary\\Documents\\8990\\DATA\\Precipitation\\PRISM_ppt_30yr_normal_4kmM3_annual_bil.bil\"\n",
    "out_raster = r\"C:\\Users\\mmMary\\Documents\\8990\\T\\Project_Rasters\\ppt\\PRISM_ppt_30yr_normal_4kmM3_annual_bil.bil\"\n",
    "# wkt = 'PROJCS[\"NAD_1983_UTM_Zone_15N\",GEOGCS[\"GCS_North_American_1983\",DATUM[\"D_North_American_1983\",SPHEROID[\"GRS_1980\",6378137.0,298.257222101]],PRIMEM[\"Greenwich\",0.0],UNIT[\"Degree\",0.0174532925199433]],PROJECTION[\"Transverse_Mercator\"],PARAMETER[\"False_Easting\",500000.0],PARAMETER[\"False_Northing\",0.0],PARAMETER[\"Central_Meridian\",-93.0],PARAMETER[\"Scale_Factor\",0.9996],PARAMETER[\"Latitude_Of_Origin\",0.0],UNIT[\"Meter\",1.0]]'\n",
    "spatial_reference_object = arcpy.SpatialReference(26915)\n",
    "arcpy.management.ProjectRaster(in_raster, out_raster, spatial_reference_object)\n",
    "\n",
    "# Sources:\n",
    "# https://pro.arcgis.com/en/pro-app/latest/tool-reference/data-management/project-raster.htm\n",
    "# https://pro.arcgis.com/en/pro-app/latest/arcpy/classes/spatialreference.htm\n",
    "#     https://epsg.io/26915"
   ]
  },
  {
   "cell_type": "code",
   "execution_count": null,
   "metadata": {},
   "outputs": [],
   "source": [
    "# This works when I project one file at a time but doesn't when looping thru folder (see below)\n",
    "\n",
    "import os\n",
    "# Set base path for raw rasters\n",
    "directory = os.fsencode(r\"C:\\Users\\mmMary\\Documents\\8990\\DATA\\Precipitation\")\n",
    "\n",
    "for file in os.listdir(directory):\n",
    "    filename = os.fsdecode(file)\n",
    "    if filename.endswith(\".bil\"):\n",
    "        \n",
    "# Get file names for all .bil files\n",
    "#         print(filename)\n",
    "                            \n",
    "        base_path = r\"C:\\Users\\mmMary\\Documents\\8990\\T\\Project_Rasters\\ppt\"\n",
    "        out_raster = os.path.join(base_path, filename)\n",
    "       \n",
    " # Projection system for MN\n",
    "        spatial_reference_object = arcpy.SpatialReference(26915)\n",
    "        \n",
    "# Project all US scale rasters\n",
    "        arcpy.management.ProjectRaster(filename, out_raster, spatial_reference_object)\n",
    "        print(output_file)"
   ]
  },
  {
   "cell_type": "markdown",
   "metadata": {},
   "source": [
    "Step 1: Project the entire U.S. .bil raster into MN CRS ESPG 26915"
   ]
  },
  {
   "cell_type": "code",
   "execution_count": null,
   "metadata": {},
   "outputs": [],
   "source": [
    "# Another attempt to automate the projection. This, sadly, also raises an error (shown at the bottom)\n",
    "# Try using arcpy.ListRasters\n",
    "\n",
    "import os\n",
    "import arcpy\n",
    "# Set base path for raw rasters\n",
    "climate_variable = \"tmax\"\n",
    "\n",
    "# arcpy.env.workspace = os.path.join(r\"C:\\Users\\mmMary\\Documents\\8990\\T\\DATA\", climate_variable)\n",
    "in_raster = os.path.join(r\"C:\\Users\\mmMary\\Documents\\8990\\T\\DATA\", climate_variable)   \n",
    "out_raster = os.path.join(r\"C:\\Users\\mmMary\\Documents\\8990\\T\\LAYERS\\MN_Extent\", climate_variable)\n",
    "arcpy.env.workspace = in_raster\n",
    "\n",
    "raster_list = arcpy.ListRasters()\n",
    "for raster in raster_list:\n",
    "#     print(raster)\n",
    "    try:  \n",
    "        # Projection system for MN\n",
    "        spatial_reference_object = arcpy.SpatialReference(26915)\n",
    "        \n",
    "        # Project all US scale rasters\n",
    "        arcpy.management.ProjectRaster(raster, out_raster, spatial_reference_object)\n",
    "        print(raster + \"in now in UTM 15N\")\n",
    "    except Exception as e:\n",
    "        print(e)\n",
    "        \n",
    "        \n",
    "\"\"\"Something unexpected caused the tool to fail. Contact Esri Technical Support (http://esriurl.com/support) to Report a Bug, and refer to the error help for potential solutions or workarounds.\n",
    "Failed to execute (ProjectRaster).\"\"\"        "
   ]
  },
  {
   "cell_type": "code",
   "execution_count": null,
   "metadata": {},
   "outputs": [],
   "source": [
    "Step 2. Convert metric to standard units - milimeters to inches"
   ]
  },
  {
   "cell_type": "code",
   "execution_count": null,
   "metadata": {},
   "outputs": [],
   "source": []
  },
  {
   "cell_type": "code",
   "execution_count": null,
   "metadata": {},
   "outputs": [],
   "source": []
  },
  {
   "cell_type": "code",
   "execution_count": null,
   "metadata": {},
   "outputs": [],
   "source": []
  },
  {
   "cell_type": "code",
   "execution_count": null,
   "metadata": {},
   "outputs": [],
   "source": []
  },
  {
   "cell_type": "markdown",
   "metadata": {},
   "source": [
    "Clip raster to Minnesota boundary"
   ]
  },
  {
   "cell_type": "code",
   "execution_count": null,
   "metadata": {},
   "outputs": [],
   "source": [
    "input = \n",
    "\n",
    "arcpy.management.Clip(\"JAN_PRISM_ppt_30yr_normal_4kmM3_annual_bil.bil\", \"-97.2698643033953 43.4353843588883 -89.3971195198901 49.4045362223117\", r\"C:\\Users\\mmMary\\Documents\\8990\\Layers\\MN_Precip\\Jan\", \"State\", \"-9999\", \"ClippingGeometry\", \"NO_MAINTAIN_EXTENT\")"
   ]
  },
  {
   "cell_type": "markdown",
   "metadata": {},
   "source": [
    "# Step 3. Clip U.S. MN CRS raster to MN rectangle. \n",
    "This is bigger than MN boundary & leaves room to refine the edges after running the Contour tool."
   ]
  },
  {
   "cell_type": "code",
   "execution_count": null,
   "metadata": {
    "scrolled": true
   },
   "outputs": [],
   "source": [
    "# Clip projected U.S. raster to MN Rectangle Extent\n",
    "\n",
    "import arcpy, os\n",
    "\n",
    "def extent_clip(climate_variable):\n",
    "    arcpy.env.workspace = os.path.join(r\"C:\\Users\\mmMary\\Documents\\8990\\T\\LAYERS\\UTM\", climate_variable)  \n",
    "    clip_shp = r\"C:\\Users\\mmMary\\Documents\\8990\\Layers\\MN_Boundary\\State.shp\"\n",
    "\n",
    "    raster_list = arcpy.ListRasters()\n",
    "    for raster in raster_list:\n",
    "        out_raster = os.path.join(r\"C:\\Users\\mmMary\\Documents\\8990\\T\\LAYERS\\MN_Extent\", climate_variable, raster) \n",
    "        arcpy.management.Clip(raster, \"170463.204 4796993.2567 780967.2014 5491739.865\", out_raster, clip_shp, \"-9999\", \"NONE\", \"MAINTAIN_EXTENT\")\n",
    "        print(raster + \" is clipped to MN rectangle\")\n",
    "        \n",
    "extent_clip(\"tmin\")\n",
    "\n",
    "\n",
    "# Sources\n",
    "# https://stackoverflow.com/questions/30043403/create-for-loop-to-process-multiple-rasters-in-a-file-using-arcpy-clip-managemen\n",
    "# https://pro.arcgis.com/en/pro-app/latest/tool-reference/data-management/clip.htm"
   ]
  },
  {
   "cell_type": "markdown",
   "metadata": {},
   "source": [
    "# Step 4. Convert Rasters from metric to standard units"
   ]
  },
  {
   "cell_type": "code",
   "execution_count": 1,
   "metadata": {},
   "outputs": [],
   "source": [
    "#import libraries\n",
    "import arcpy\n",
    "from arcpy.sa import *\n",
    "import os"
   ]
  },
  {
   "cell_type": "markdown",
   "metadata": {},
   "source": [
    "### Convert rain volumes from mm to inches\n",
    "#### mm / 25.4 = inches"
   ]
  },
  {
   "cell_type": "code",
   "execution_count": null,
   "metadata": {},
   "outputs": [],
   "source": [
    "climate_variable = \"precip\"\n",
    "in_raster_path = os.path.join(r\"C:\\Users\\mmMary\\Documents\\8990\\T\\LAYERS\\MN_Extent\", climate_variable)   \n",
    "arcpy.env.workspace = in_raster_path\n",
    "\n",
    "\n",
    "rasters = arcpy.ListRasters()\n",
    "for raster in rasters:\n",
    "# Directory for converted rasters    \n",
    "    new_raster = os.path.join(r\"C:\\Users\\mmMary\\Documents\\8990\\T\\LAYERS\\Standard_Units\", climate_variable, raster)  \n",
    "# Create a raster object\n",
    "    rasterObject = Raster(raster)\n",
    "# Convert from mm to inches\n",
    "    outraster = rasterObject / 25.4\n",
    "# Check the min & max values to assess quality    \n",
    "    min_inch = outraster.minimum\n",
    "    max_inch = outraster.maximum\n",
    "#Save to new folder\n",
    "    outraster.save(new_raster)    \n",
    "    print(\"Converted to inches: \", raster, \"min & max inches: \", min_inch, max_inch)"
   ]
  },
  {
   "cell_type": "markdown",
   "metadata": {},
   "source": [
    "### Convert temperature values from Celsius to Fahrenheit\n",
    "#### C° to F°: (Degrees°C x 1.8) + 32 = Degrees°F"
   ]
  },
  {
   "cell_type": "code",
   "execution_count": 2,
   "metadata": {},
   "outputs": [],
   "source": [
    "# A function to convert temperature from Celsius to Fahrenheit \n",
    "\n",
    "def celsius_to_fahren(climate_variable):\n",
    "    in_raster_path = os.path.join(r\"C:\\Users\\mmMary\\Documents\\8990\\T\\LAYERS\\MN_Extent\", climate_variable)   \n",
    "    arcpy.env.workspace = in_raster_path\n",
    "   \n",
    "\n",
    "    rasters = arcpy.ListRasters()\n",
    "    for raster in rasters:\n",
    "            \n",
    "        # Directory for converted rasters    \n",
    "        new_raster = os.path.join(r\"C:\\Users\\mmMary\\Documents\\8990\\T\\LAYERS\\Standard_Units\", climate_variable, raster)  \n",
    "        # Create a raster object\n",
    "        rasterObject = Raster(raster)\n",
    "        # Convert from Cesius to Fahrenheit\n",
    "        outraster = (rasterObject * 1.8) + 32\n",
    "        # Check the min & max values to assess quality    \n",
    "        min_temp = outraster.minimum\n",
    "        max_temp = outraster.maximum\n",
    "        #Save to new folder\n",
    "        outraster.save(new_raster)    \n",
    "        print(\"Converted to Degrees Fahrenheit: \", raster, \"min & max Degrees: \", min_temp, max_temp)\n",
    "\n"
   ]
  },
  {
   "cell_type": "code",
   "execution_count": null,
   "metadata": {
    "scrolled": false
   },
   "outputs": [],
   "source": [
    "# Call the function for each temperature variables\n",
    "celsius_to_fahren(\"tmin\")"
   ]
  },
  {
   "cell_type": "markdown",
   "metadata": {},
   "source": [
    "# Step 5. Contour Tool to convert to Vector format.\n",
    "\n",
    "The Contour tool converts rasters into vectors. This eliminates pixellation of the map and converts it into a shapefile to ease file sharing and publication."
   ]
  },
  {
   "cell_type": "markdown",
   "metadata": {},
   "source": [
    "#### Contours for temperature:\n",
    "Monthly normals are split into 2 degree increments while the annual temperature normal is split into increments of 1 inch"
   ]
  },
  {
   "cell_type": "code",
   "execution_count": 33,
   "metadata": {},
   "outputs": [
    {
     "name": "stdout",
     "output_type": "stream",
     "text": [
      "['tmax_01_bil', 'tmax_02_bil', 'tmax_03_bil', 'tmax_04_bil', 'tmax_05_bil', 'tmax_06_bil', 'tmax_07_bil', 'tmax_08_bil', 'tmax_09_bil', 'tmax_10_bil', 'tmax_11_bil', 'tmax_12_bil', 'tmax_ann_bil', 'tmax_ann_bil']  is now contoured\n"
     ]
    }
   ],
   "source": [
    "def temp_contour(climate_variable):\n",
    "    arcpy.env.workspace = os.path.join(r\"C:\\Users\\mmMary\\Documents\\8990\\T\\LAYERS\\Standard_Units\", climate_variable)  \n",
    "    # List to hold names of rasters that were successfully converted\n",
    "    contour_list = []\n",
    "    \n",
    "    raster_list = arcpy.ListRasters()\n",
    "    for raster in raster_list:\n",
    "        input_raster = os.path.join(r\"C:\\Users\\mmMary\\Documents\\8990\\T\\LAYERS\\Standard_Units\", climate_variable, raster) \n",
    "        output_contour = os.path.join(r\"C:\\Users\\mmMary\\Documents\\8990\\T\\LAYERS\\Contour\", climate_variable, raster + \".shp\")\n",
    "        \n",
    "        \n",
    "        arcpy.sa.Contour(\n",
    "        input_raster, output_contour, \n",
    "        2, 0, 1, \"CONTOUR_POLYGON\", None)\n",
    "        \n",
    "        contour_list.append(raster)\n",
    "        \n",
    "    ann_raster = arcpy.ListRasters(\"*ann_bil*\")\n",
    "    for raster in ann_raster:\n",
    "\n",
    "        arcpy.sa.Contour(\n",
    "        input_raster, output_contour, \n",
    "        1, 0, 1, \"CONTOUR_POLYGON\", None)\n",
    "    \n",
    "        contour_list.append(raster)\n",
    "      \n",
    " # Show list of all converted files to make sure all were successful\n",
    "    print(contour_list, \" is now contoured\")\n",
    "\n",
    "# Call the function for each temperature variable    \n",
    "temp_contour(\"tmax\")    "
   ]
  },
  {
   "cell_type": "markdown",
   "metadata": {},
   "source": [
    "#### Contours for precipitation:\n",
    "Monthly normals are split into 0.25 inch increments while the annual precip normal is split into increments of 2 inches"
   ]
  },
  {
   "cell_type": "code",
   "execution_count": 14,
   "metadata": {},
   "outputs": [
    {
     "name": "stdout",
     "output_type": "stream",
     "text": [
      "C:\\Users\\mmMary\\Documents\\8990\\T\\LAYERS\\Contour\\precip\\ppt_ann_bil.shp is now contoured\n"
     ]
    }
   ],
   "source": [
    "import arcpy, os\n",
    "from arcpy.sa import *\n",
    "\n",
    "def precip_contour(climate_variable):\n",
    "    arcpy.env.workspace = os.path.join(r\"C:\\Users\\mmMary\\Documents\\8990\\T\\LAYERS\\Standard_Units\", climate_variable)  \n",
    "    # List to hold names of rasters that were successfully converted\n",
    "    contour_list = []\n",
    "    \n",
    "# Convert all of the monthly rasters using the 0.25 increment    \n",
    "    raster_list = arcpy.ListRasters()\n",
    "    for raster in raster_list:\n",
    "        input_raster = os.path.join(r\"C:\\Users\\mmMary\\Documents\\8990\\T\\LAYERS\\Standard_Units\", climate_variable, raster) \n",
    "        output_contour = os.path.join(r\"C:\\Users\\mmMary\\Documents\\8990\\T\\LAYERS\\Contour\", climate_variable, raster + \".shp\")\n",
    "        \n",
    "        arcpy.sa.Contour(\n",
    "        input_raster, output_contour, \n",
    "        0.25, 0, 1, \"CONTOUR_POLYGON\", None)\n",
    "        \n",
    "        contour_list.append(raster)\n",
    "\n",
    "# Handle the annual raster with 2 inch increment\n",
    "    ann_raster = arcpy.ListRasters(\"*ann_bil*\")\n",
    "    for raster in ann_raster:\n",
    "        \n",
    "        arcpy.sa.Contour(\n",
    "        input_raster, output_contour, \n",
    "        2, 15, 1, \"CONTOUR_POLYGON\", None)\n",
    "        \n",
    "        contour_list.append(raster)\n",
    "\n",
    "# Print out confirmation list to ensure all files were successfully converted\n",
    "    print(output_contour + \" is now contoured\")\n",
    "\n",
    "# Call the function for precipitation\n",
    "precip_contour(\"precip\")    \n",
    "       "
   ]
  },
  {
   "cell_type": "markdown",
   "metadata": {},
   "source": [
    "#### Sources:\n",
    "https://pro.arcgis.com/en/pro-app/latest/tool-reference/spatial-analyst/contour.htm"
   ]
  },
  {
   "cell_type": "markdown",
   "metadata": {},
   "source": [
    "# Step 6. Clip to Minnesota State Boundary\n",
    "This clips it to the exact MN boundary while preserving clean edges and data."
   ]
  },
  {
   "cell_type": "code",
   "execution_count": 38,
   "metadata": {
    "scrolled": true
   },
   "outputs": [
    {
     "name": "stdout",
     "output_type": "stream",
     "text": [
      "ppt_01_bil.shp is clipped to MN boundary\n",
      "ppt_02_bil.shp is clipped to MN boundary\n",
      "ppt_03_bil.shp is clipped to MN boundary\n",
      "ppt_04_bil.shp is clipped to MN boundary\n",
      "ppt_05_bil.shp is clipped to MN boundary\n",
      "ppt_06_bil.shp is clipped to MN boundary\n",
      "ppt_07_bil.shp is clipped to MN boundary\n",
      "ppt_08_bil.shp is clipped to MN boundary\n",
      "ppt_09_bil.shp is clipped to MN boundary\n",
      "ppt_10_bil.shp is clipped to MN boundary\n",
      "ppt_11_bil.shp is clipped to MN boundary\n",
      "ppt_12_bil.shp is clipped to MN boundary\n",
      "ppt_ann_bil.shp is clipped to MN boundary\n"
     ]
    }
   ],
   "source": [
    "# Clip projected U.S. raster to MN Rectangle Extent\n",
    "\n",
    "def MN_clip(climate_variable):\n",
    "    arcpy.env.workspace = os.path.join(r\"C:\\Users\\mmMary\\Documents\\8990\\T\\LAYERS\\Contour\", climate_variable)  \n",
    "    clip_feature = r\"C:\\Users\\mmMary\\Documents\\8990\\Layers\\MN_Boundary\\State.shp\"\n",
    "\n",
    "    feature_classes = arcpy.ListFeatureClasses()\n",
    "    for fc in feature_classes:\n",
    "        in_feature = os.path.join(arcpy.env.workspace, fc)\n",
    "        out_feature = os.path.join(r\"C:\\Users\\mmMary\\Documents\\8990\\Layers\\MN_Vector_Varibles\", climate_variable, fc) \n",
    "        \n",
    "        arcpy.analysis.Clip(in_feature, clip_feature, out_feature, None)\n",
    "        print(fc + \" is clipped to MN boundary\")\n",
    "        \n",
    "                \n",
    "MN_clip(\"precip\")"
   ]
  },
  {
   "cell_type": "markdown",
   "metadata": {},
   "source": [
    "# Step 7. Apply Symbology\n",
    "Set the symbology based on precipitation, temperature, monthly & annual values."
   ]
  },
  {
   "cell_type": "markdown",
   "metadata": {},
   "source": [
    "Create a symbology layer for the monthly and annual precipitaion and temperature.\n",
    "Save each as a Layer File"
   ]
  },
  {
   "cell_type": "code",
   "execution_count": null,
   "metadata": {},
   "outputs": [],
   "source": [
    "# This applies symbology from another layer that must be stored \n",
    "\n",
    "# Apply symbology from layer\n",
    "\n",
    "arcpy.env.workspace = r\"C:\\Users\\mmMary\\Documents\\8990\\T\\LAYERS\\symbology\\precip\"\n",
    "\n",
    "ppt_ann_style = r\"C:\\Users\\mmMary\\Documents\\8990\\Layers\\Symbology_Layers\\ppt_ann_style.shp\"\n",
    "ppt_monthly = r\"C:\\Users\\mmMary\\Documents\\8990\\T\\LAYERS\\Layer_Styles\\ppt_monthly.shp\"\n",
    "\n",
    "featureclasses = arcpy.ListFeatureClasses()\n",
    "\n",
    "for fc in featureclasses:\n",
    "    if fc.endswith(\"_ann_bil.shp\"):\n",
    "        arcpy.management.ApplySymbologyFromLayer(fc, \"ppt_ann_style\", \n",
    "                                         \"VALUE_FIELD ContourMin ContourMin\", \"MAINTAIN\")\n",
    "    else:\n",
    "#         print(fc)\n",
    "        arcpy.management.ApplySymbologyFromLayer(fc, \"ppt_monthly\", \n",
    "                                         \"VALUE_FIELD ContourMin ContourMin\", \"MAINTAIN\")\n",
    "    \n",
    "# https://pro.arcgis.com/en/pro-app/latest/arcpy/mapping/uniquevaluerenderer-class.htm"
   ]
  },
  {
   "cell_type": "markdown",
   "metadata": {},
   "source": [
    "# Step 8. Export to image\n"
   ]
  },
  {
   "cell_type": "markdown",
   "metadata": {},
   "source": [
    "This step requires layout design to be done in ArcGIS Pro & manual manipulation of the layer files. \n",
    "Add the legend, title & other desired attributes then run this cell.\n",
    "\n",
    "#### !! Run the cell once for each layer - turning off the top layer beforehand so each iteration is captured in the final image. !!"
   ]
  },
  {
   "cell_type": "markdown",
   "metadata": {},
   "source": [
    "# This works but requires a lot of manual input between each layer. \n",
    "# It does however print the final layout complete with legend & titles"
   ]
  },
  {
   "cell_type": "code",
   "execution_count": 10,
   "metadata": {},
   "outputs": [
    {
     "data": {
      "text/plain": [
       "'C:\\\\Users\\\\mmMary\\\\Desktop\\\\8990\\\\ppt\\\\ppt_01.jpg'"
      ]
     },
     "execution_count": 10,
     "metadata": {},
     "output_type": "execute_result"
    }
   ],
   "source": [
    "import os\n",
    "aprx = arcpy.mp.ArcGISProject(r\"C:\\Users\\mmMary\\Documents\\8990\\Map\\Weather_Map\\Weather_Map.aprx\")\n",
    "\n",
    "# Update these parameters each instance for proper naming convention.\n",
    "# !! Failing to do will overwrite the last file !!\n",
    "climate_variable = \"ppt\"\n",
    "time = \"01\"\n",
    "\n",
    "# Output_File = os.path.join(r\"C:\\Users\\mmMary\\Documents\\8990\\Static_Maps\", climate_variable, climate_variable + \"_\" + time) \n",
    "\n",
    "Output_File = os.path.join(r\"C:\\Users\\mmMary\\Desktop\\8990\", climate_variable, climate_variable + \"_\" + time + \".jpg\") \n",
    "m = aprx.listMaps(\"Print\")[0]\n",
    "lyt = aprx.listLayouts(\"Layout\")[0]\n",
    "lyt.exportToJPEG(Output_File) #, width=1000, height=1000, world_file=True) "
   ]
  },
  {
   "cell_type": "markdown",
   "metadata": {},
   "source": [
    "# The below cell is still a work in progress but it seems like I'm close. "
   ]
  },
  {
   "cell_type": "code",
   "execution_count": 20,
   "metadata": {},
   "outputs": [
    {
     "name": "stdout",
     "output_type": "stream",
     "text": [
      "Counties\n",
      "State\n",
      "ppt_monthly\n",
      "ppt_ann_style\n",
      "ppt_12_bil_Layer\n",
      "ppt_11_bil_Layer\n",
      "ppt_10_bil_Layer\n",
      "ppt_09_bil_Layer\n",
      "ppt_08_bil_Layer\n",
      "ppt_07_bil_Layer\n",
      "ppt_06_bil_Layer\n",
      "ppt_05_bil_Layer\n",
      "ppt_04_bil_Layer\n",
      "ppt_03_bil_Layer\n",
      "ppt_02_bil_Layer\n",
      "ppt_01_bil_Layer1\n",
      "ppt_12_bil_Layer\n",
      "ppt_ann_bil\n"
     ]
    }
   ],
   "source": [
    "# THIS is getting close but still not quite correct. Still working on it\n",
    "import arcpy, os\n",
    "\n",
    "aprx = arcpy.mp.ArcGISProject('current')\n",
    "mv = aprx.activeView\n",
    "\n",
    "# Loop thru all layers in mapframe\n",
    "layers = m.listLayers()\n",
    "\n",
    "for l in layers:\n",
    "    # Get layer as string for filename\n",
    "    l_name = str(l)\n",
    "    \n",
    "    # Export the map view\n",
    "    Output_File = os.path.join(r\"C:\\Users\\mmMary\\Documents\\8990\\Static_Maps\\testing\", l_name) \n",
    "    mv.exportToJPEG(Output_File, width=1000, height=1000, world_file=True)\n",
    "    \n",
    "    print(Output_File + \" is now an image\")\n",
    "#     print(l)"
   ]
  },
  {
   "cell_type": "markdown",
   "metadata": {},
   "source": [
    "#### Sources:\n",
    "https://pro.arcgis.com/en/pro-app/latest/tool-reference/analysis/clip.htm ,/n https://pro.arcgis.com/en/pro-app/latest/arcpy/functions/listfeatureclasses.htm"
   ]
  }
 ],
 "metadata": {
  "kernelspec": {
   "display_name": "ArcGISPro",
   "language": "Python",
   "name": "python3"
  },
  "language_info": {
   "file_extension": ".py",
   "name": "python",
   "version": "3"
  }
 },
 "nbformat": 4,
 "nbformat_minor": 2
}
